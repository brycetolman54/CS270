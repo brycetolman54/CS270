{
  "cells": [
    {
      "cell_type": "markdown",
      "metadata": {
        "id": "DVL7_bgmIAPR"
      },
      "source": [
        "# K-Nearest Neighbor Lab\n",
        "Read over the sklearn info on [nearest neighbor learners](https://scikit-learn.org/stable/modules/neighbors.html#nearest-neighbors-classification)\n",
        "\n",
        "\n"
      ]
    },
    {
      "cell_type": "code",
      "execution_count": 89,
      "metadata": {
        "id": "6ZbYjZZZ_yLV"
      },
      "outputs": [],
      "source": [
        "from sklearn.neighbors import KNeighborsClassifier, KNeighborsRegressor\n",
        "from sklearn.metrics import mean_absolute_error\n",
        "import urllib.request\n",
        "import io\n",
        "import numpy as np\n",
        "import pandas as pd\n",
        "from scipy.io import arff\n",
        "import matplotlib.pyplot as plt\n",
        "from sklearn.model_selection import train_test_split\n",
        "from sklearn.preprocessing import LabelEncoder, StandardScaler, MinMaxScaler"
      ]
    },
    {
      "cell_type": "code",
      "execution_count": 90,
      "metadata": {
        "id": "Ng6l4r0IM3IN"
      },
      "outputs": [],
      "source": [
        "def getDataArff(filename):\n",
        "  readData = arff.loadarff(filename)\n",
        "  dataDF = pd.DataFrame(readData[0])\n",
        "  dataDF = dataDF.apply(LabelEncoder().fit_transform)\n",
        "  dataNP = dataDF.to_numpy()\n",
        "  length = dataNP.shape[1]\n",
        "  X = dataNP[:,0:length - 1]\n",
        "  y = dataNP[:,length - 1]\n",
        "  return X, y\n",
        "def getDataCsv(filename):\n",
        "  dataDF = pd.read_csv(filename)\n",
        "  dataNP = dataDF.to_numpy()\n",
        "  length = dataNP.shape[1]\n",
        "  X = dataNP[:,0:length - 1]\n",
        "  y = dataNP[:,length - 1]\n",
        "  return X, y"
      ]
    },
    {
      "cell_type": "markdown",
      "source": [
        "## 1 K-Nearest Neighbor (KNN) algorithm"
      ],
      "metadata": {
        "id": "8UlnroehpZHE"
      }
    },
    {
      "cell_type": "markdown",
      "metadata": {
        "id": "FW4DIvc1M3IM"
      },
      "source": [
        "### 1.1 (15%) Basic KNN Classification\n",
        "\n",
        "Learn the [Glass data set](https://archive.ics.uci.edu/dataset/42/glass+identification) using [KNeighborsClassifier](https://scikit-learn.org/stable/modules/generated/sklearn.neighbors.KNeighborsClassifier.html#sklearn.neighbors.KNeighborsClassifier) with default parameters.\n",
        "- Randomly split your data into train/test.  Anytime we don't tell you specifics (such as what percentage is train vs test) choose your own reasonable values\n",
        "- Give typical train and test set accuracies after running with different random splits\n",
        "- Print the output probabilities for a test set (predict_proba)\n",
        "- Try it with different p values (Minkowskian exponent) and discuss any differences"
      ]
    },
    {
      "cell_type": "code",
      "source": [
        "X, y = getDataCsv(\"glass.csv\")\n",
        "mdString = \"\"\n",
        "for i in range(5):\n",
        "  clf = KNeighborsClassifier()\n",
        "  Xtrain, Xtest, ytrain, ytest = train_test_split(X, y, test_size = 0.2)\n",
        "  clf.fit(Xtrain, ytrain)\n",
        "  trainAcc = round(clf.score(Xtrain, ytrain) * 100, 1)\n",
        "  testAcc = round(clf.score(Xtest, ytest) * 100, 1)\n",
        "  mdString += f\"|  {i}  | {trainAcc} | {testAcc} |\\n\"\n",
        "# print(mdString)\n",
        "# print(\"Test Probabilities: \\n\", clf.predict_proba(Xtest))\n",
        "Xtrain, Xtest, ytrain, ytest = train_test_split(X, y, test_size = 0.3)\n",
        "mdString = \"\"\n",
        "for i in range(1,10):\n",
        "  clf = KNeighborsClassifier(p=i)\n",
        "  clf.fit(Xtrain, ytrain)\n",
        "  trainAcc = round(clf.score(Xtrain, ytrain) * 100, 1)\n",
        "  testAcc = round(clf.score(Xtest, ytest) * 100, 1)\n",
        "  mdString += f\"|  {i}  | {trainAcc} | {testAcc} |\\n\"\n",
        "print(mdString)"
      ],
      "metadata": {
        "colab": {
          "base_uri": "https://localhost:8080/"
        },
        "id": "obCHmsiT1_Op",
        "outputId": "4775c197-998a-43f4-e2ae-ed0ef6e37988"
      },
      "execution_count": 91,
      "outputs": [
        {
          "output_type": "stream",
          "name": "stdout",
          "text": [
            "|  1  | 98.7 | 96.9 |\n",
            "|  2  | 98.7 | 95.3 |\n",
            "|  3  | 98.7 | 95.3 |\n",
            "|  4  | 98.7 | 95.3 |\n",
            "|  5  | 98.0 | 95.3 |\n",
            "|  6  | 98.0 | 95.3 |\n",
            "|  7  | 98.0 | 95.3 |\n",
            "|  8  | 98.0 | 95.3 |\n",
            "|  9  | 98.0 | 95.3 |\n",
            "\n"
          ]
        }
      ]
    },
    {
      "cell_type": "markdown",
      "metadata": {
        "id": "FQp68_TgM3IO"
      },
      "source": [
        "***Discussion***:\n",
        "\n",
        "Accuracy for different runs\n",
        "\n",
        "| Run | Train Accuracy | Test Accuracy |\n",
        "| :---: | :---: | :---: |\n",
        "|  0  | 99.4 | 97.7 |\n",
        "|  1  | 98.8 | 93.0 |\n",
        "|  2  | 98.8 | 93.0 |\n",
        "|  3  | 98.8 | 95.3 |\n",
        "|  4  | 98.8 | 95.3 |\n",
        "\n",
        "- The model does quite well with the different runs. Each time, the accuracy is almost perfect for the training set and not far worse for the test set. KNN seems to be a good algorithm for this simple data set. I am interested to see how it fairs with something more difficult.\n",
        "\n",
        "- As for the predicted probabilities of the test class: it seems like the model is almost 100% certain on the class most of the time. There are only a few rows where more than one class has some probability, and when that happens there don't seem to be more than two classes as possible candidates. I wonder if this is just because of the way the algorithm is set up, that there won't ever be (or will rarely be) two classes that are both \"majority\" classes. Maybe the model is just configured to only output at most two class probabilities though.\n",
        "\n",
        "Accuracy for different P values\n",
        "\n",
        "| Run | Train Accuracy | Test Accuracy |\n",
        "| :---: | :---: | :---: |\n",
        "|  1  | 98.0 | 100.0 |\n",
        "|  2  | 97.3 | 100.0 |\n",
        "|  3  | 97.3 | 98.4 |\n",
        "|  4  | 97.3 | 98.4 |\n",
        "|  5  | 97.3 | 98.4 |\n",
        "|  6  | 97.3 | 98.4 |\n",
        "|  7  | 97.3 | 98.4 |\n",
        "|  8  | 97.3 | 98.4 |\n",
        "|  9  | 97.3 | 98.4 |\n",
        "\n",
        "- It doesn't seem like changing the p value does much to change the accuracy. This was just one of the runs that I did. There were many others when the accuracy for all the training sets was 100 or the test sets all had perfect accuracy. From this table, it seems like anything above p=2 is pretty much the same. I wonder how this differs with higher dimensional spaces or with more complex data."
      ]
    },
    {
      "cell_type": "markdown",
      "source": [
        "## 2 KNN Classification with normalization and distance weighting"
      ],
      "metadata": {
        "id": "eU_QNW9NNJMT"
      }
    },
    {
      "cell_type": "markdown",
      "metadata": {
        "id": "9vWiTdlbR2Xh"
      },
      "source": [
        "Use the [magic telescope](https://axon.cs.byu.edu/data/uci_class/MagicTelescope.arff) dataset\n",
        "\n",
        "### 2.1 (5%) - Without Normalization or Distance Weighting\n",
        "- Do random 80/20 train/test splits each time\n",
        "- Run with k=3 and *without* distance weighting and *without* normalization\n",
        "- Show train and test set accuracy"
      ]
    },
    {
      "cell_type": "code",
      "execution_count": 92,
      "metadata": {
        "id": "4SSoasDQSKXb",
        "colab": {
          "base_uri": "https://localhost:8080/"
        },
        "outputId": "9d0c75cf-d1e4-4cb0-d0a6-32d400cf74e4"
      },
      "outputs": [
        {
          "output_type": "stream",
          "name": "stdout",
          "text": [
            "Training accuracy:  89.8\n",
            "Test accuracy:  81.8\n"
          ]
        }
      ],
      "source": [
        "X, y = getDataArff(\"magic.arff\")\n",
        "Xtrain, Xtest, ytrain, ytest = train_test_split(X, y, test_size = 0.2)\n",
        "\n",
        "clf = KNeighborsClassifier(n_neighbors = 3)\n",
        "clf.fit(Xtrain, ytrain)\n",
        "\n",
        "print(\"Training accuracy: \", round(clf.score(Xtrain, ytrain) * 100, 1))\n",
        "print(\"Test accuracy: \", round(clf.score(Xtest, ytest) * 100, 1))"
      ]
    },
    {
      "cell_type": "markdown",
      "metadata": {
        "id": "VCDJ7zcUM3IP"
      },
      "source": [
        "***Discussion***:\n",
        "The accuracy is not terrible for the training data, though it is not great considering that it is the training data. The accuracy on the test data is quite poor. I think that this may be more due to the fact that we haven't normalized the data, since increasing the number of neighbors did not do much to increase the accuracies."
      ]
    },
    {
      "cell_type": "markdown",
      "metadata": {
        "id": "BmoARfrnM3IQ"
      },
      "source": [
        "### 2.2 (10%) With Normalization\n",
        "- Try it with k=3 without distance weighting but *with* normalization of input features.  You may use any reasonable normalization approach (e.g. standard min-max normalization between 0-1, z-transform, etc.)"
      ]
    },
    {
      "cell_type": "code",
      "execution_count": 93,
      "metadata": {
        "id": "WS9dyRgUM3IQ",
        "colab": {
          "base_uri": "https://localhost:8080/"
        },
        "outputId": "f113a1cd-b02e-4fed-9479-e67b9a838a47"
      },
      "outputs": [
        {
          "output_type": "stream",
          "name": "stdout",
          "text": [
            "Training accuracy:  90.2\n",
            "Test accuracy:  83.9\n"
          ]
        }
      ],
      "source": [
        "X, y = getDataArff(\"magic.arff\")\n",
        "# scaler = StandardScaler()\n",
        "scaler = MinMaxScaler()\n",
        "Xscaled = scaler.fit_transform(X)\n",
        "Xtrain, Xtest, ytrain, ytest = train_test_split(Xscaled, y, test_size = .2)\n",
        "\n",
        "clf = KNeighborsClassifier(n_neighbors = 3)\n",
        "clf.fit(Xtrain, ytrain)\n",
        "print(\"Training accuracy: \", round(clf.score(Xtrain, ytrain) * 100, 1))\n",
        "print(\"Test accuracy: \", round(clf.score(Xtest, ytest) * 100, 1))"
      ]
    },
    {
      "cell_type": "markdown",
      "metadata": {
        "id": "Jrc1yRR7M3IQ"
      },
      "source": [
        "***Discussion***:\n",
        "- I used standardization to normalize my data, giving all the features a mean of 0 and standard deviation of 1. The accuracy for both sets didn't really increase that much (89.3% to 90.5% for the training, 81.2% to 83.3% for the test). The increase in accuracy happened more for the test data than the traini data. So, while normalization may help a little, it doesn't help much.\n",
        "- I tried again, but with min max scaling to scale the data to a range. That didn't do much better than the standardization of the features."
      ]
    },
    {
      "cell_type": "markdown",
      "metadata": {
        "id": "1yHyuFPWM3IR"
      },
      "source": [
        "### 2.3 (10%) With Distance Weighting\n",
        "- Try it with k=3 and with distance weighting *and* normalization"
      ]
    },
    {
      "cell_type": "code",
      "execution_count": 94,
      "metadata": {
        "id": "fJpCKjl9M3IR",
        "colab": {
          "base_uri": "https://localhost:8080/"
        },
        "outputId": "44e5cb64-8483-41c1-9612-e82d2beeb45d"
      },
      "outputs": [
        {
          "output_type": "stream",
          "name": "stdout",
          "text": [
            "Training accuracy:  100.0\n",
            "Test accuracy:  84.0\n"
          ]
        }
      ],
      "source": [
        "X, y = getDataArff(\"magic.arff\")\n",
        "# scaler = StandardScaler()\n",
        "scaler = MinMaxScaler()\n",
        "Xscaled = scaler.fit_transform(X)\n",
        "Xtrain, Xtest, ytrain, ytest = train_test_split(Xscaled, y, test_size = 0.2)\n",
        "\n",
        "clf = KNeighborsClassifier(n_neighbors = 3, weights=\"distance\")\n",
        "clf.fit(Xtrain, ytrain)\n",
        "print(\"Training accuracy: \", round(clf.score(Xtrain, ytrain) * 100, 1))\n",
        "print(\"Test accuracy: \", round(clf.score(Xtest, ytest) * 100, 1))"
      ]
    },
    {
      "cell_type": "markdown",
      "metadata": {
        "id": "3QfKzMzNM3IR"
      },
      "source": [
        "***Discussion***:\n",
        "- I stuck with standardization, because it gave slightly better results than MinMax scaling.\n",
        "- After adding distance weights, the training accuracy increased to 100%. I was not expecting that. I expected the accuracy to increase by a little, as it has been for the other things I have been changing.\n",
        "- The test set accuracy was still pretty poor, only 83%. This did not change really at all from the last run. I did not expect this. I expected a small increase in the accuracy, but an increase nonetheless.\n",
        "- Distance weighting seems to do a good job of making the training data fit, but not the test data.\n",
        "- Even after changing the normalization to be MinMax, the test accuracy barely improves. Distance weigthing seems to only favor the training set, at least with this data."
      ]
    },
    {
      "cell_type": "markdown",
      "metadata": {
        "id": "PiZJ3TDhM3IR"
      },
      "source": [
        "### 2.4 (10%) Different k Values\n",
        "- Using your normalized data with distance weighting, create one graph with classification accuracy on the test set on the y-axis and k values on the x-axis.\n",
        "- Use values of k from 1 to 15.  Use the same train/test split for each."
      ]
    },
    {
      "cell_type": "code",
      "execution_count": 95,
      "metadata": {
        "id": "hMWKXnPfM3IS",
        "colab": {
          "base_uri": "https://localhost:8080/",
          "height": 0
        },
        "outputId": "88f071a3-5241-4dbf-86ee-6c6280bcc598"
      },
      "outputs": [
        {
          "output_type": "display_data",
          "data": {
            "text/plain": [
              "<Figure size 640x480 with 1 Axes>"
            ],
            "image/png": "[encoded data removed]"
          },
          "metadata": {}
        }
      ],
      "source": [
        "X, y = getDataArff(\"magic.arff\")\n",
        "scaler = MinMaxScaler()\n",
        "Xscaled = scaler.fit_transform(X)\n",
        "Xtrain, Xtest, ytrain, ytest = train_test_split(Xscaled, y, test_size = 0.2)\n",
        "\n",
        "plotX = np.arange(1,16)\n",
        "plotY = np.array([])\n",
        "\n",
        "for k in range(1,16):\n",
        "  clf = KNeighborsClassifier(n_neighbors = k, weights=\"distance\")\n",
        "  clf.fit(Xtrain, ytrain)\n",
        "  score = clf.score(Xtest, ytest)\n",
        "  plotY = np.append(plotY, score)\n",
        "\n",
        "# print(plotX, plotY)\n",
        "\n",
        "plt.plot()\n",
        "plt.scatter(plotX, plotY)\n",
        "plt.title(\"Accuracy versus k\")\n",
        "plt.xlabel(\"k\")\n",
        "plt.ylabel(\"Test Accuracy\")\n",
        "plt.grid()\n",
        "plt.show()"
      ]
    },
    {
      "cell_type": "markdown",
      "metadata": {
        "id": "iCNNc74eM3IS"
      },
      "source": [
        "***Discussion***:\n",
        "- I left the normalization as MinMax, since it did have a slight advantage compared to Standardization when I did distance weighting.\n",
        "- The accuracy starts super low for the first few k values.\n",
        "- It starts to get higher around k = 3, but then levels out around 84% around k = 8 to k = 15. There is some noise, some variability, in that range, but nothing drastic.\n",
        "- Just for fun, I increased k drastically (up to 44), and found that the accuracy went on a slow decline back to around teh accuracy of k = 3.\n",
        "- Changing k helps to an extent, but it definitely does not solve all the problems with the limitations of KNN."
      ]
    },
    {
      "cell_type": "markdown",
      "source": [
        "## 3 KNN Regression with normalization and distance weighting"
      ],
      "metadata": {
        "id": "aXKgKmhlND5N"
      }
    },
    {
      "cell_type": "markdown",
      "metadata": {
        "id": "SIRG42TgSR4x"
      },
      "source": [
        "Use the [sklean KNeighborsRegressor](https://scikit-learn.org/stable/modules/generated/sklearn.neighbors.KNeighborsRegressor.html#sklearn.neighbors.KNeighborsRegressor) on the [housing price prediction](https://axon.cs.byu.edu/data/uci_regression/housing.arff) problem.  \n",
        "### 3.1 (5%) Ethical Data\n",
        "Note this data set has an example of an inappropriate input feature which we discussed.  State which feature is inappropriate and discuss why."
      ]
    },
    {
      "cell_type": "markdown",
      "metadata": {
        "id": "uafx7R05M3IS"
      },
      "source": [
        "***Discussion***:\n",
        "- The innapropriate feature is the percentage of black people in the population.\n",
        "- This is innapropriate because in the past it may have been a factor in the home prices because of racial prejudice of some people.\n",
        "- However, it in itself is not a factor that should have a bearing on the home prices. (If the argument is that Black people commit more crimes, then some feature along those lines [number of crimes committed in the area] would be a more suitable feature to use)"
      ]
    },
    {
      "cell_type": "markdown",
      "metadata": {
        "id": "rcHMGwcEM3IS"
      },
      "source": [
        "### 3.2 (15%) - KNN Regression\n",
        "- Do random 80/20 train/test splits each time\n",
        "- Run with k=3\n",
        "- Print the score (coefficient of determination) and Mean Absolute Error (MAE) for the train and test set for the cases of\n",
        "  - No input normalization and no distance weighting\n",
        "  - Normalization and no distance weighting\n",
        "  - Normalization and distance weighting\n",
        "- Normalize inputs features where needed but do not normalize the output"
      ]
    },
    {
      "cell_type": "code",
      "execution_count": 96,
      "metadata": {
        "id": "KBGUn43ASiXW",
        "colab": {
          "base_uri": "https://localhost:8080/"
        },
        "outputId": "17699d33-a2a1-4dcd-f9c4-b1a8f5274b91"
      },
      "outputs": [
        {
          "output_type": "stream",
          "name": "stdout",
          "text": [
            "|100.0|79.5|0.0|18.4|\n"
          ]
        }
      ],
      "source": [
        "X, y = getDataArff(\"housing.arff\")\n",
        "scaler = MinMaxScaler()\n",
        "# scaler = StandardScaler()\n",
        "X = scaler.fit_transform(X)\n",
        "Xtrain, Xtest, ytrain, ytest = train_test_split(X, y, test_size = 0.2)\n",
        "\n",
        "# clf = KNeighborsRegressor(n_neighbors = 3)\n",
        "clf = KNeighborsRegressor(n_neighbors = 3, weights = \"distance\")\n",
        "clf.fit(Xtrain, ytrain)\n",
        "print(\"|\", round(clf.score(Xtrain, ytrain) * 100, 1), \"|\", round(clf.score(Xtest, ytest) * 100, 1), \"|\", round(mean_absolute_error(ytrain, clf.predict(Xtrain)), 1), \"|\", round(mean_absolute_error(ytest, clf.predict(Xtest)), 1), \"|\", sep = \"\")"
      ]
    },
    {
      "cell_type": "markdown",
      "source": [
        "***Discussion***:\n",
        "\n",
        "| Method | Train Accuracy | Test Accuracy | Train MAE | Test MAE |\n",
        "| :---: | :---: | :---: | :---: | :---: |\n",
        "| No normalization/No distance weighting|90.9|81.5|12.4|18.7|\n",
        "| MinMax normalization/No distance weighting|90.3|81.1|13.1|18.8|\n",
        "| Standard normalization/No distance weighting|89.8|80.8|13.3|20.0|\n",
        "| MinMax normalization/distance weighting|100.0|81.6|0.0|16.8|\n",
        "\n",
        "- I chose to use MinMax normalization with the distnace weighting because it worked better than the standard normalization when there was no distance weighting.\n",
        "- Again, it seems like distnace weighting causes a great improvement in the training accuracy and MAE, but not so for the test set.\n",
        "- The test set accuracy and MAE stay pretty constant throughout the trials. I don't think that normalization and distance weighting, at least how I am doing them, work very well to improve the predictions on the test set.\n",
        "- It is interesting to see that distance weighting, as before, had a much greater impact on the training set prediction accuracy and MAE than did the different normalization methods. The normalization even seemed to cause a slight decrease in the accuracy and it raised the MAE as well. I would say that suggest the model is getting more generalizable, but those things didn't help the test set at all really."
      ],
      "metadata": {
        "id": "K90mH1sf6KsE"
      }
    },
    {
      "cell_type": "markdown",
      "metadata": {
        "id": "rga1vS5WM3IU"
      },
      "source": [
        "### 3.3 (10%)  Different k Values\n",
        "- Using housing with normalized data and distance weighting, create one graph with MAE on the test set on the y-axis and k values on the x-axis\n",
        "- Use values of k from 1 to 15.  Use the same train/test split for each."
      ]
    },
    {
      "cell_type": "code",
      "execution_count": 97,
      "metadata": {
        "id": "kSFWbyg4M3IU",
        "colab": {
          "base_uri": "https://localhost:8080/",
          "height": 0
        },
        "outputId": "a26ea8f9-a0d8-4619-dc74-13815158a7fd"
      },
      "outputs": [
        {
          "output_type": "display_data",
          "data": {
            "text/plain": [
              "<Figure size 640x480 with 1 Axes>"
            ],
            "image/png": "[encoded data removed]"
          },
          "metadata": {}
        }
      ],
      "source": [
        "X, y = getDataArff(\"housing.arff\")\n",
        "scaler = MinMaxScaler()\n",
        "Xscaled = scaler.fit_transform(X)\n",
        "Xtrain, Xtest, ytrain, ytest = train_test_split(Xscaled, y, test_size = 0.2)\n",
        "\n",
        "plotX = np.arange(1,16)\n",
        "plotY = np.array([])\n",
        "\n",
        "for k in range(1,16):\n",
        "  clf = KNeighborsClassifier(n_neighbors = k, weights=\"distance\")\n",
        "  clf.fit(Xtrain, ytrain)\n",
        "  mae = mean_absolute_error(ytest, clf.predict(Xtest))\n",
        "  plotY = np.append(plotY, mae)\n",
        "\n",
        "plt.plot()\n",
        "plt.scatter(plotX, plotY)\n",
        "plt.title(\"Accuracy versus k\")\n",
        "plt.xlabel(\"k\")\n",
        "plt.ylabel(\"MAE\")\n",
        "plt.grid()\n",
        "plt.show()"
      ]
    },
    {
      "cell_type": "markdown",
      "metadata": {
        "id": "OY9znFw1M3IU"
      },
      "source": [
        "***Discussion***:\n",
        "- It was interesting to see the effect that the k value had on the MAE. It started out not too high with a small k.\n",
        "- At around k = 4 to 6, the MAE dropped to its lowest (though it was still up around 24, so not super low)\n",
        "- Then, the greater k values only led to greater MAE.\n",
        "- It is easy to see that having a greater k is not necessarily helpful. We have to choose a k value that minimizes the MAE, and that really just takes a guess-and-check approach to find. (that's not surprising since a lot of machine learning seems to be finding the best hyperparameters for a specific situation)"
      ]
    },
    {
      "cell_type": "markdown",
      "metadata": {
        "id": "ZUCDy9biM3IV"
      },
      "source": [
        "## 4. (20%) KNN with nominal and real data\n",
        "\n",
        "- Use the [lymph dataset](https://axon.cs.byu.edu/data/uci_class/lymph.arff)\n",
        "- Use a 80/20 split of the data for the training/test set\n",
        "- This dataset has both continuous and nominal attributes\n",
        "- Implement a distance metric which uses Euclidean distance for continuous features and 0/1 distance for nominal. Hints:\n",
        "    - Write your own distance function (e.g. mydist) and use clf = KNeighborsClassifier(metric=mydist)\n",
        "    - Change the nominal features in the data set to integer values since KNeighborsClassifier expects numeric features. I used Label_Encoder on the nominal features.\n",
        "    - Keep a list of which features are nominal which mydist can use to decide which distance measure to use\n",
        "    - There was an occasional bug in SK version 1.3.0 (\"Flags object has no attribute 'c_contiguous'\") that went away when I upgraded to the lastest SK version 1.3.1\n",
        "- Use your own choice for k and other parameters"
      ]
    },
    {
      "cell_type": "code",
      "execution_count": 98,
      "metadata": {
        "id": "zwm-LPbvM3IV",
        "colab": {
          "base_uri": "https://localhost:8080/"
        },
        "outputId": "e6365e57-ee02-4a4b-e4d1-03f6a9d6fa6f"
      },
      "outputs": [
        {
          "output_type": "execute_result",
          "data": {
            "text/plain": [
              "0.7666666666666667"
            ]
          },
          "metadata": {},
          "execution_count": 98
        }
      ],
      "source": [
        "readData = arff.loadarff(\"lymph.arff\")\n",
        "dataDF = pd.DataFrame(readData[0])\n",
        "dataNP = dataDF.to_numpy()\n",
        "length = dataNP.shape[1]\n",
        "X = dataNP[:,0:length - 1]\n",
        "y = dataNP[:,length - 1]\n",
        "\n",
        "for i in range(0,X.shape[1]):\n",
        "  if type(X[0][i]) == bytes:\n",
        "    X[:,i] = LabelEncoder().fit_transform(X[:,i])\n",
        "\n",
        "scaler = MinMaxScaler()\n",
        "X = scaler.fit_transform(X)\n",
        "y = LabelEncoder().fit_transform(y)\n",
        "Xtrain, Xtest, ytrain, ytest = train_test_split(X, y, test_size = 0.2)\n",
        "\n",
        "def mydist(x, y):\n",
        "  nomDist = 0\n",
        "  conDist = 0\n",
        "  dist = 0\n",
        "  for i in range(0, x.shape[0]):\n",
        "    if type(x[i]) == np.int64:\n",
        "      if not (x[i] == y[i]):\n",
        "        nomDist += 1\n",
        "        dist += 1\n",
        "      else:\n",
        "        conDist += (x[i] - y[i])**2\n",
        "        dist += (x[i] - y[i])**2\n",
        "  conDist = conDist**0.5\n",
        "  # return nomDist + conDist\n",
        "  return dist\n",
        "\n",
        "clf = KNeighborsClassifier(metric = mydist, n_neighbors = 3, weights = \"distance\")\n",
        "clf.fit(Xtrain, ytrain)\n",
        "clf.score(Xtest, ytest)"
      ]
    },
    {
      "cell_type": "markdown",
      "metadata": {
        "id": "02iFoSxFM3IV"
      },
      "source": [
        "***Discussion***:\n",
        "- I used k = 3, since it seems to work well for other data sets\n",
        "- I used distance weighting, since it increases training accuracy without really affecting test accuracy (and typically improving it slightly if anything)\n",
        "- I used MinMax normalization because it has worked better than Standard normalization for the other data sets\n",
        "\n",
        "- My metric: I used 0/1 ditance for each nominal value, 0 being if the attributes were the same between the two points and 1 being if they were different.\n",
        "  - I found the 0/1 distance for each nominal value and summed those.\n",
        "  - I found the (x-y)^2 for each continuous value and summed them. At the end, I took the square root of that sum.\n",
        "  - Then, I added the 0/1 distances and the Euclidean distance from all the continuous values and returned that.\n",
        "- I think I did something wrong in my distance function. I am getting terrible accuracy on both my training set and test set (I get 100% on my training set when I run it with a normal distance metric, not my own).\n",
        "- I think I am missing something about how to combine the distance between features when I have both continuous and nominal.\n",
        "- I changed it to pretend that the 0/1 distance was added to the (x-y)^2 for the continuous variables, summing those all and taking the square root at the end. This increased my accuracy by a lot (from 42% to 66% on the test set).\n",
        "- My conclusion, I have not written a great distance function, but I can find ways to improve it."
      ]
    }
  ],
  "metadata": {
    "colab": {
      "provenance": [],
      "collapsed_sections": [
        "8UlnroehpZHE",
        "eU_QNW9NNJMT",
        "9vWiTdlbR2Xh",
        "BmoARfrnM3IQ",
        "1yHyuFPWM3IR",
        "PiZJ3TDhM3IR",
        "aXKgKmhlND5N",
        "SIRG42TgSR4x",
        "rcHMGwcEM3IS",
        "rga1vS5WM3IU"
      ]
    },
    "kernelspec": {
      "display_name": "Python 3.10.7 64-bit",
      "language": "python",
      "name": "python3"
    },
    "language_info": {
      "codemirror_mode": {
        "name": "ipython",
        "version": 3
      },
      "file_extension": ".py",
      "mimetype": "text/x-python",
      "name": "python",
      "nbconvert_exporter": "python",
      "pygments_lexer": "ipython3",
      "version": "3.10.7"
    },
    "vscode": {
      "interpreter": {
        "hash": "aee8b7b246df8f9039afb4144a1f6fd8d2ca17a180786b69acc140d282b71a49"
      }
    }
  },
  "nbformat": 4,
  "nbformat_minor": 0
}