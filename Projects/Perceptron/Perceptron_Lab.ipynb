{
  "cells": [
    {
      "cell_type": "markdown",
      "metadata": {
        "id": "DVL7_bgmIAPR"
      },
      "source": [
        "# Perceptron Lab"
      ]
    },
    {
      "cell_type": "markdown",
      "metadata": {
        "id": "rBIfzcfn3QPO"
      },
      "source": [
        "This is the scaffold notebook for the perceptron lab and each lab will have a similar scaffold.  Make your own copy of this notebook and then you can fill in the tasks.  **You will fill in code boxes and test boxes with discussion for most tasks** and particularly discussion of results, graphs, etc. Good writing, grammar, punctuation, etc. are important and points will be taken off if these things are lacking.\n",
        "\n",
        "In most cases just reporting results without discussion will not receive full credit. Thus, your discussion should also include sentences like the following: This is because…  Note that the …  I was surprised to observe… I am not sure why …, but my hypothesis is that …\n",
        "\n",
        "Start by looking over the scikit-learn [user guide](https://scikit-learn.org/stable/user_guide.html) and carefully reading over the [perceptron documentation](https://scikit-learn.org/stable/modules/generated/sklearn.linear_model.Perceptron.html)."
      ]
    },
    {
      "cell_type": "code",
      "execution_count": 2,
      "metadata": {
        "id": "6ZbYjZZZ_yLV"
      },
      "outputs": [],
      "source": [
        "# imports\n",
        "import numpy as np\n",
        "from scipy.io import arff\n",
        "import matplotlib.pyplot as plt\n",
        "import pandas as pd\n",
        "from sklearn.linear_model import Perceptron\n",
        "from sklearn.model_selection import train_test_split\n",
        "from sklearn.preprocessing import LabelEncoder"
      ]
    },
    {
      "cell_type": "code",
      "source": [
        "def GetData(filename):\n",
        "  Data_Set = arff.loadarff(filename)\n",
        "  Data_Set_df = pd.DataFrame(Data_Set[0])\n",
        "  Data_Set_np = Data_Set_df.to_numpy()\n",
        "  Data_Set_np = Data_Set_np.astype(float)\n",
        "  X = Data_Set_np[:, :-1]\n",
        "  y = Data_Set_np[:, -1]\n",
        "  return X, y\n",
        "\n",
        "def Train(filename, eta=0.1, maxIter=None):\n",
        "  if maxIter:\n",
        "    clf = Perceptron(shuffle=False, verbose=0, eta0=eta, max_iter=maxIter)\n",
        "  else:\n",
        "    clf = Perceptron(shuffle=False, verbose=0, eta0=0.1)\n",
        "  X, y = GetData(filename)\n",
        "  clf.fit(X, y)\n",
        "  return clf, X, y"
      ],
      "metadata": {
        "id": "587l_CGzgRGQ"
      },
      "execution_count": 3,
      "outputs": []
    },
    {
      "cell_type": "markdown",
      "metadata": {
        "id": "KibCIXIThpbE"
      },
      "source": [
        "## 1. Debug and Evaluation\n",
        "\n",
        "For most labs we will give you some data and expected results so that you can verify that you are doing things right and getting appropriate results.  We will then have you run on some other data with the exact same hyperparameters so we can see if your results are correct.\n",
        "\n",
        "### 1.1 Debug (5%)\n",
        "Download this [data set](https://raw.githubusercontent.com/cs472ta/CS472/master/datasets/linsep2nonorigin.arff) into your local directory and name it debug.arff.  To download rather than view, right-click the link and save as.  To allow consistent results run the Perceptron using the following hyperparameters:\n",
        "- Learning rate = .1\n",
        "- Do NOT shuffle the data after every epoch like you would normally do\n",
        "- Learn for a maximum of 10 epochs\n",
        "- Start all weights at 0 (which is the default for this scikit-learn implementation)  \n",
        "\n",
        "Your results should be:\n",
        "Accuracy = [.875]\\\n",
        "Final Weights = [[-0.23  0.18]]\\\n",
        "[-0.1] - This last weight is the bias weight, which they call the intercept.\n",
        "\n",
        "To help you with this first task, following is one detailed variation that would do this for you. You may use your own variation.  Note that commonly used variable names in the community are clf (classifier), X (array of input features), y (vector of output labels)."
      ]
    },
    {
      "cell_type": "code",
      "execution_count": 4,
      "metadata": {
        "id": "KgAyy82gixIF",
        "colab": {
          "base_uri": "https://localhost:8080/"
        },
        "outputId": "1b150737-aa30-4f70-e6e0-b0e128e6093f"
      },
      "outputs": [
        {
          "output_type": "stream",
          "name": "stdout",
          "text": [
            "Weights:  [[-0.24  0.2 ]]\n",
            "Intercept:  [-0.1]\n",
            "Accuracy:  1.0\n"
          ]
        }
      ],
      "source": [
        "clf, X, y = Train(\"debug.arff\", 10)\n",
        "\n",
        "print(\"Weights: \", clf.coef_)\n",
        "print(\"Intercept: \", clf.intercept_)\n",
        "print(\"Accuracy: \", clf.score(X, y))"
      ]
    },
    {
      "cell_type": "markdown",
      "metadata": {
        "id": "rmoeboSeWhXa"
      },
      "source": [
        "Notes:\n",
        "* If you increase (or just remove) max_iter your perceptron will converge to 100% in one more epoch.  Try it!\n",
        "* verbose (integer) specifies how much info you get after each epoch.  It does not change results.  Try it with 0.\n",
        "    * Norm is a measure of the total weight magnitudes in the current model.\n",
        "    * NNZs is the number of non-zero weights there currently are (not including the bias).\n",
        "    * clf.intercept_ is the value of the bias weight, NOT the actual y-intercept of the decision surface, though it will affect that.\n",
        "    * T is the total number of weight updates so far.  In this case all the weights were updated each epoch.\n",
        "    * Avg. loss is another measure of error.  More on that later.\n",
        "    * The activation function outputs 1 if net > 0, else 0."
      ]
    },
    {
      "cell_type": "markdown",
      "metadata": {
        "id": "kY3VNB1ui03N"
      },
      "source": [
        "### 1.2 (5%) Evaluation\n",
        "\n",
        "Now run your model  on the [evaluation dataset](https://raw.githubusercontent.com/cs472ta/CS472/master/datasets/data_banknote_authentication.arff) and report the final accuracy, weights, and bias. Use the exact same hyperparameters as the debug dataset. The most common reason for results not matching ours is not exactly using the same hyperparameters (e.g. initial weights, training exactly 10 epochs, no shuffling, etc.) Hint: Throughout these labs for the numerous cases where you are doing the same task, but with different data (e.g. debug, eval), you could create a function where you just pass the data set name, so as not to recreate the code multiple times."
      ]
    },
    {
      "cell_type": "code",
      "execution_count": 5,
      "metadata": {
        "id": "2yAxA78QjDh2",
        "colab": {
          "base_uri": "https://localhost:8080/"
        },
        "outputId": "f06d1dec-a133-4d23-b1d7-5deb4aa25d30"
      },
      "outputs": [
        {
          "output_type": "stream",
          "name": "stdout",
          "text": [
            "Weights:  [[-4.28857497 -2.390381   -3.0160324  -1.1686672 ]]\n",
            "Bias:  [5.2]\n",
            "Accuracy:  0.9766763848396501\n"
          ]
        }
      ],
      "source": [
        "clf, X, y = Train(\"data_banknote_authentication.arff\", 10)\n",
        "\n",
        "print(\"Weights: \", clf.coef_)\n",
        "print(\"Bias: \", clf.intercept_)\n",
        "print(\"Accuracy: \", clf.score(X,y))"
      ]
    },
    {
      "cell_type": "markdown",
      "metadata": {
        "id": "U-4J5VcS9umq"
      },
      "source": [
        "*Discussion:* I saw here that this data was perhaps not linearly separable, since after 10 epochs it converges (I got no warning about it not converging), but the accuracy is still not 100%."
      ]
    },
    {
      "cell_type": "markdown",
      "metadata": {
        "id": "9vWiTdlbR2Xh"
      },
      "source": [
        "## 2. Classifying on linearly separable and non-linearly separable data\n",
        "\n",
        "### 2.1 (5%) Create 2 datasets\n",
        "\n",
        "- Both with 8 instances using 2 real valued inputs with 4 instances from each class.\n",
        "- One data set should be linearly separable and the other not.\n",
        "- Show or print your datasets"
      ]
    },
    {
      "cell_type": "code",
      "execution_count": 6,
      "metadata": {
        "id": "4SSoasDQSKXb",
        "colab": {
          "base_uri": "https://localhost:8080/"
        },
        "outputId": "587ef80b-87a2-4afc-87f4-0dc5692e0bdf"
      },
      "outputs": [
        {
          "output_type": "stream",
          "name": "stdout",
          "text": [
            "Linearly Separable Data: \n",
            " [[ 0.8  2.5  1. ]\n",
            " [-0.3  9.4  1. ]\n",
            " [ 0.4  3.5  1. ]\n",
            " [-0.9 -0.3  1. ]\n",
            " [ 1.4 -2.6  0. ]\n",
            " [ 9.8  1.3  0. ]\n",
            " [ 2.4 -3.5  0. ]\n",
            " [ 5.6  2.   0. ]]\n",
            "Non-Linearly Separable Data: \n",
            " [[ 5.6  2.5  1. ]\n",
            " [ 2.3  4.5  1. ]\n",
            " [ 6.7  0.2  1. ]\n",
            " [ 1.2 -2.4  1. ]\n",
            " [ 0.3 -1.2  0. ]\n",
            " [ 9.8 -0.4  0. ]\n",
            " [ 2.4 -3.5  0. ]\n",
            " [ 5.   3.   0. ]]\n"
          ]
        }
      ],
      "source": [
        "LinSep = arff.loadarff(\"example1.arff\")\n",
        "LinSepDF = pd.DataFrame(LinSep[0])\n",
        "LinSepNP = LinSepDF.to_numpy()\n",
        "LinSepData = LinSepNP.astype(float)\n",
        "print(\"Linearly Separable Data: \\n\", LinSepData)\n",
        "\n",
        "LinSep = arff.loadarff(\"example2.arff\")\n",
        "LinSepDF = pd.DataFrame(LinSep[0])\n",
        "LinSepNP = LinSepDF.to_numpy()\n",
        "LinSepData = LinSepNP.astype(float)\n",
        "print(\"Non-Linearly Separable Data: \\n\", LinSepData)"
      ]
    },
    {
      "cell_type": "markdown",
      "metadata": {
        "id": "SIRG42TgSR4x"
      },
      "source": [
        "### 2.2 (5%) Train on both sets using the scikit-learn perceptron model\n",
        "- Train on each and print the results. Train until convergence (i.e. use the default max_iter by simply not specifying it).\n",
        "- You may choose your other hyperparameters."
      ]
    },
    {
      "cell_type": "code",
      "execution_count": 7,
      "metadata": {
        "id": "KBGUn43ASiXW",
        "colab": {
          "base_uri": "https://localhost:8080/"
        },
        "outputId": "15d25da1-ddcf-4127-9a12-85e97c9360d1"
      },
      "outputs": [
        {
          "output_type": "stream",
          "name": "stdout",
          "text": [
            "Linearly Separable:\n",
            "Weights:  [[-0.91  0.34]]\n",
            "Bias:  [0.2]\n",
            "Accuracy:  1.0 \n",
            "\n",
            "Non-Linearly Separable:\n",
            "Weights:  [[-0.72  0.89]]\n",
            "Bias:  [0.9]\n",
            "Accuracy:  0.625\n"
          ]
        }
      ],
      "source": [
        "clf, X, y = Train(\"example1.arff\")\n",
        "\n",
        "print(\"Linearly Separable:\")\n",
        "print(\"Weights: \", clf.coef_)\n",
        "print(\"Bias: \", clf.intercept_)\n",
        "print(\"Accuracy: \", clf.score(X,y), \"\\n\")\n",
        "\n",
        "clf, X, y = Train(\"example2.arff\")\n",
        "\n",
        "print(\"Non-Linearly Separable:\")\n",
        "print(\"Weights: \", clf.coef_)\n",
        "print(\"Bias: \", clf.intercept_)\n",
        "print(\"Accuracy: \", clf.score(X,y))"
      ]
    },
    {
      "cell_type": "markdown",
      "metadata": {
        "id": "890A39KX9zLC"
      },
      "source": [
        "*Discussion:* The linearly separable data easily achieved 100% accuracy, which makes sense since there is a linear separation between the data points. Since the other data is not linearly separable, it makes sense that the accuracy is so bad. The majority of the 0 class are within the area of the 1 class, so I see why the algorithm can't get any good separation really."
      ]
    },
    {
      "cell_type": "markdown",
      "metadata": {
        "id": "v19fpixqTe-7"
      },
      "source": [
        "### 2.3 (10%) Graph the datasets and their corresponding decision line\n",
        "\n",
        " - Graph each dataset\n",
        " - Use your trained perceptrons above to determine each dataset's decision line\n",
        "    - We discssed how to find the slope and intercept in class and the equation is in the Perceptron slides\n",
        " - For all graphs always label the axes!\n",
        " - Following are examples of what graphs could look like\n",
        "\n",
        "![Linearly Separable Data](https://raw.githubusercontent.com/rmorain/CS472-1/master/images/perceptron/linearly_separable.png)\n",
        "\n",
        "![Not Linearly Separable](https://raw.githubusercontent.com/rmorain/CS472-1/master/images/perceptron/not_linearly_separable.png)"
      ]
    },
    {
      "cell_type": "code",
      "source": [
        "# Fit data\n",
        "clf, X, y = Train(\"example1.arff\")\n",
        "\n",
        "# Get Slope/Intercept\n",
        "w1 = clf.coef_[0][0]\n",
        "w2 = clf.coef_[0][1]\n",
        "slope = -w1/w2\n",
        "intercept = -clf.intercept_/w2\n",
        "\n",
        "# Add boundary line\n",
        "xlist = np.linspace(-2,10,100)\n",
        "eq = slope*xlist + intercept\n",
        "plt.plot(xlist,  eq, '-k', )\n",
        "\n",
        "# Add data\n",
        "plt.scatter(X[:4, 0], X[:4, 1], color='red', label='1')\n",
        "plt.scatter(X[4:, 0], X[4:, 1], color='blue', label='0')\n",
        "\n",
        "# Add title and such\n",
        "plt.title(\"Linearly Separable Data\")\n",
        "plt.xlabel(\"X\")\n",
        "plt.ylabel(\"Y\")\n",
        "plt.grid()\n",
        "plt.legend(title=\"Class\")\n",
        "\n",
        "# Plot\n",
        "plt.show()\n",
        "\n",
        "\n",
        "# Fit data\n",
        "clf, X, y = Train(\"example2.arff\")\n",
        "\n",
        "# Get Slope/Intercept\n",
        "w1 = clf.coef_[0][0]\n",
        "w2 = clf.coef_[0][1]\n",
        "slope = -w1/w2\n",
        "intercept = -clf.intercept_/w2\n",
        "\n",
        "# Add boundary line\n",
        "xlist = np.linspace(-2,10,100)\n",
        "eq = slope*xlist + intercept\n",
        "plt.plot(xlist,  eq, '-k', )\n",
        "\n",
        "# Add the data\n",
        "plt.scatter(X[:4, 0], X[:4, 1], color='red', label='1')\n",
        "plt.scatter(X[4:, 0], X[4:, 1], color='blue', label='0')\n",
        "\n",
        "# Add titles and such\n",
        "plt.title(\"Non-Linearly Separable Data\")\n",
        "plt.xlabel(\"X\")\n",
        "plt.ylabel(\"Y\")\n",
        "plt.grid()\n",
        "plt.legend(title=\"Class\")\n",
        "\n",
        "# Plot\n",
        "plt.show()"
      ],
      "metadata": {
        "colab": {
          "base_uri": "https://localhost:8080/",
          "height": 927
        },
        "id": "k-HFhG94vZqL",
        "outputId": "709bf435-66e0-4616-b60e-e57eced6989f"
      },
      "execution_count": 8,
      "outputs": [
        {
          "output_type": "display_data",
          "data": {
            "text/plain": [
              "<Figure size 640x480 with 1 Axes>"
            ],
            "image/png": "[encoded data removed]"
          },
          "metadata": {}
        },
        {
          "output_type": "display_data",
          "data": {
            "text/plain": [
              "<Figure size 640x480 with 1 Axes>"
            ],
            "image/png": "[encoded data removed]"
          },
          "metadata": {}
        }
      ]
    },
    {
      "cell_type": "markdown",
      "metadata": {
        "id": "M7dyHR0c92zd"
      },
      "source": [
        "*Discussion:* The linearly separable data is split right next to one of the class 1 points. This fits with the idea that the algorithm really looks for the first possible solution that works. The non-linearly separable data surprised me. I thought that the line would go through the data points, leaving some of each point on each side. The algorithm, rather, put all the data points on one side, maximizing recall, but doing a terrible job with precision."
      ]
    },
    {
      "cell_type": "markdown",
      "metadata": {
        "id": "_N5RXV8AzdRF"
      },
      "source": [
        "### 2.4 (5%) Discuss why perceptrons in general will not get perfect accuracy on non-linearly separable data"
      ]
    },
    {
      "cell_type": "markdown",
      "metadata": {
        "id": "0hSjHuLdzdRF"
      },
      "source": [
        "*Discussion:* Linearly separable data can be separated by a simple line splitting the data at some point. Non-linearly separable data is not able to be divided by such a line. Since the data is intermingled, the perceptron, given its two dimensions to work in, cannot get a function that can separate the data points. Adding more inputs (say by making it a quadric machine) allows the data to be separated by something other than a line, but that comes with its own problems."
      ]
    },
    {
      "cell_type": "markdown",
      "metadata": {
        "id": "0ySvhd1lUGSe"
      },
      "source": [
        "## 3. Use the perceptron to learn this version of the [voting data set](https://raw.githubusercontent.com/cs472ta/CS472/master/datasets/voting-dataset.arff)\n",
        "\n",
        "This particular task is an edited version of the standard voting set, where we have replaced all the “don’t know” values with the most common value for the particular attribute. Look at the [tutorial](https://github.com/cs472ta/CS472/blob/master/Tutorial.ipynb) from the Labs Content page to see examples of prepping the voting data set for sklearn.\n",
        "\n",
        "### 3.1 (10%) Average final training and test set accuracy over multiple trials\n",
        "\n",
        "- Learn the voting data five times with different random 70/30 Training/Test splits each time\n",
        "- Use a learning rate of 1.  The other hyperparameters are up to you.\n",
        "- Report the 5 trials and the average training and test accuracy and number of epochs to converge across the 5 trials in a table\n",
        "    - Below is an example of what a 2 trial table might look like\n",
        "\n",
        "| Trial | Training Accuracy | Test accuracy | Number of epochs |\n",
        "| --- | --- | --- | --- |\n",
        "| 1 | .950 | .550 | 4 |\n",
        "| 2 | .850 | .450 | 6 |\n",
        "| Average | .900 | .500 | 5 |\n",
        "\n",
        "*- As a rough sanity check, typical Perceptron test accuracies for the voting data set are 90%-98%.*\n"
      ]
    },
    {
      "cell_type": "code",
      "execution_count": 9,
      "metadata": {
        "id": "Romyl4G8Trki",
        "colab": {
          "base_uri": "https://localhost:8080/"
        },
        "collapsed": true,
        "outputId": "42c2d741-fcaa-40a0-8dd4-edcba3241013"
      },
      "outputs": [
        {
          "output_type": "stream",
          "name": "stdout",
          "text": [
            "[0.9378882  0.95341615 0.96583851 0.97204969 0.94409938]\n",
            "[0.94244604 0.92805755 0.97122302 0.94244604 0.89928058]\n",
            "[14. 10. 20. 15. 21.]\n",
            "0.9546583850931677\n",
            "0.9366906474820145\n",
            "16.0\n"
          ]
        }
      ],
      "source": [
        "trainAcc = np.array([])\n",
        "testAcc = np.array([])\n",
        "numEpochs = np.array([])\n",
        "\n",
        "data = arff.loadarff(\"voting.arff\")\n",
        "df = pd.DataFrame(data[0])\n",
        "dfe = df.apply(LabelEncoder().fit_transform)\n",
        "dnp = dfe.to_numpy()\n",
        "\n",
        "X = dnp[:, :-1]\n",
        "y = dnp[:, -1]\n",
        "\n",
        "for i in range(5):\n",
        "  Xtrain, Xtest, ytrain, ytest = train_test_split(X,y,test_size=0.3)\n",
        "  clf = Perceptron(shuffle=True, verbose=0, eta0=1)\n",
        "  clf.fit(Xtrain,ytrain)\n",
        "  trainAcc = np.append(trainAcc, clf.score(Xtrain, ytrain))\n",
        "  testAcc = np.append(testAcc, clf.score(Xtest, ytest))\n",
        "  numEpochs = np.append(numEpochs, clf.n_iter_)\n",
        "\n",
        "print(trainAcc)\n",
        "print(testAcc)\n",
        "print(numEpochs)\n",
        "print(np.mean(trainAcc))\n",
        "print(np.mean(testAcc))\n",
        "print(np.mean(numEpochs))\n"
      ]
    },
    {
      "cell_type": "markdown",
      "source": [
        "### Multiple Train/Test Accuracy Results\n",
        "\n",
        "| Trial | Training Accuracy | Test Accuracy | Number of Epochs |\n",
        "| :---: | :---------------: | :-----------: | :--------------: |\n",
        "|   1   |     0.95962733    |   0.95683453  |        14        |\n",
        "|   2   |     0.95341615    |   0.89208633  |        12        |\n",
        "|   3   |     0.9689441     |   0.97122302  |        13        |\n",
        "|   4   |     0.95962733    |   0.95683453  |        11        |\n",
        "|   5   |     0.92857143    |   0.95683453  |         9        |\n",
        "|  Avg  |     0.94347826    |   0.94676258  |       11.8       |"
      ],
      "metadata": {
        "id": "2sW5_XCDJGBC"
      }
    },
    {
      "cell_type": "markdown",
      "metadata": {
        "id": "cm4rbWkzVeoR"
      },
      "source": [
        "### 3.2 (10%) Interpreting the Model\n",
        "- Learn with the perceptron once on the full voting data set\n",
        "- Look at the learned weights and bias and do your best to explain what the model has learned and how the individual input features affect the result.\n",
        "- Which specific features are most critical for the voting task, and which are least critical?"
      ]
    },
    {
      "cell_type": "code",
      "execution_count": 10,
      "metadata": {
        "id": "q0htWRSOWhXf",
        "colab": {
          "base_uri": "https://localhost:8080/"
        },
        "outputId": "71aca6bb-354c-4175-b98d-4eae3f0a9956"
      },
      "outputs": [
        {
          "output_type": "stream",
          "name": "stdout",
          "text": [
            "[[0 1 1 ... 1 1 0]\n",
            " [0 0 1 ... 0 1 1]\n",
            " [0 1 1 ... 0 0 0]\n",
            " ...\n",
            " [0 1 0 ... 0 1 1]\n",
            " [0 0 0 ... 0 1 1]\n",
            " [0 1 0 ... 0 0 1]]\n",
            "Weights:  [[  0.  -3.  -8.  17.   4.  -2.   5.   6.  -7.   5. -10.  -1.  -1.   0.\n",
            "   -4.   5.]]\n",
            "Bias:  [-9.]\n"
          ]
        }
      ],
      "source": [
        "data = arff.loadarff(\"voting.arff\")\n",
        "df = pd.DataFrame(data[0])\n",
        "dfe = df.apply(LabelEncoder().fit_transform)\n",
        "dnp = dfe.to_numpy()\n",
        "print(dnp)\n",
        "\n",
        "X = dnp[:, :-1]\n",
        "y = dnp[:, -1]\n",
        "\n",
        "clf = Perceptron(shuffle=True, verbose=0, eta0=1)\n",
        "clf.fit(X,y)\n",
        "\n",
        "print(\"Weights: \", clf.coef_)\n",
        "print(\"Bias: \", clf.intercept_)"
      ]
    },
    {
      "cell_type": "markdown",
      "metadata": {
        "id": "L2AO2slIWhXf"
      },
      "source": [
        "*Discussion:* The weights show that that majority of the decision about whether or not someone is Democrat or Republican has to do with the votes on only a few key issues. We see that some of the votes are not relevant at all, and that another few hold a lot of sway, with the rest being somewhere in the middle. The bias seems to tells us that the model is more likely to classify someone as Republican based on their votes (since it is so large and negative).\n",
        "\n",
        "The least critical features are the 1st and 14th. These two have no sway on the final decision. Other features that are not so critical are the 2nd, 6th, 12th, and 13th, all of which have magnitudes much less than the rest of the features.\n",
        "\n",
        "The most critical features are the 4th and 11th. The 4th tells a lot about whether or not someone is a Republican, and the 11th tells a lot about whether or not someone is a Democrat."
      ]
    },
    {
      "cell_type": "markdown",
      "metadata": {
        "id": "NyUmJ4yWVsQ7"
      },
      "source": [
        "### 3.3 (15%) Misclassification rate vs epochs\n",
        "\n",
        "Learn with the perceptron once on the full voting data set and graph the misclassification rate (number_misclassified  /  number_of_total_data_points) at each epoch until convergence (0th – final epoch).  Hints:\n",
        "- For the 0th epoch (i.e. initial weights), assume the initial misclassification rate is 66% and let that be the first point on your graph. Since there are 2 output classes, random guessing would only get it right about 1/2 of the time. Missclassifcation rate is 1 - accuracy.\n",
        "- Doing clf.fit with max_iter = 1, and warm_start=True will let you loop through epochs one at a time, allowing you to look at accuracy, etc. after each epoch.  But how do you know how many epochs to run until convergence?  One way is to just to first run it until convergence with random_state = c to see how many epochs it took (n_iter_).  Then run it again one epoch at a time n_iter_ times using the same random_state constant c (so that you get the exact same conditions).\n",
        "- Below is a rough example of what this type of graph might look like (though this graph is for avg rate across multiple trials)\n",
        "\n",
        "![Average Misclassification Rate](https://raw.githubusercontent.com/rmorain/CS472-1/master/images/perceptron/avg_misclassification_rate_vs_epochs.png)"
      ]
    },
    {
      "cell_type": "code",
      "execution_count": 12,
      "metadata": {
        "id": "2_ZRPWWVVeFM",
        "colab": {
          "base_uri": "https://localhost:8080/",
          "height": 507
        },
        "outputId": "0170991c-6585-4902-b2b2-235b3747e56d"
      },
      "outputs": [
        {
          "output_type": "stream",
          "name": "stdout",
          "text": [
            "Misclassifications:  [0.66       0.04989154 0.05422993 0.04338395 0.07158351 0.05422993\n",
            " 0.03904555 0.02819957 0.04338395 0.04989154 0.04121475 0.02819957]\n"
          ]
        },
        {
          "output_type": "display_data",
          "data": {
            "text/plain": [
              "<Figure size 640x480 with 1 Axes>"
            ],
            "image/png": "[encoded data removed]"
          },
          "metadata": {}
        }
      ],
      "source": [
        "# Learn once on the full voting data set, while gathering info after every epoch\n",
        "# Then Graph it here.  Here is some sample graph code, but you can do it your own way, including using a bar graph, etc.\n",
        "\n",
        "def plot_misclassification(misclassification_rate):\n",
        "    \"\"\"\n",
        "        Plots the misclassification rate\n",
        "    Args:\n",
        "        misclassification_rate (array-like): A 1D array or list of missclassifcation rate at every epoch\n",
        "    \"\"\"\n",
        "    plt.plot(np.arange(len(misclassification_rate)), misclassification_rate)\n",
        "    plt.title(\"Misclassification Rate vs. Epoch\")\n",
        "    plt.xlabel(\"Epoch\")\n",
        "    plt.ylabel(\"Misclassification Rate\")\n",
        "    plt.show()\n",
        "\n",
        "misclassifications = np.array([0.66])\n",
        "\n",
        "clf = Perceptron(eta0=0.1, random_state=123, warm_start=True, max_iter=1, shuffle=True, tol=None, verbose=0)\n",
        "\n",
        "for i in range(11):\n",
        "  clf.fit(X,y)\n",
        "  misclassifications = np.append(misclassifications, 1-clf.score(X,y))\n",
        "\n",
        "print(\"Misclassifications: \", misclassifications)\n",
        "\n",
        "plot_misclassification(misclassifications)\n"
      ]
    },
    {
      "cell_type": "markdown",
      "metadata": {
        "id": "PgqUrgh--GeU"
      },
      "source": [
        "### Misclassification Table\n",
        "\n",
        "| Epoch | Misclassification Rate |\n",
        "| :---: | :--------------------: |\n",
        "|   0   |          0.66          |\n",
        "|   1   |       0.04989154       |\n",
        "|   2   |       0.05422993       |\n",
        "|   3   |       0.04338395       |\n",
        "|   4   |       0.07158351       |\n",
        "|   5   |       0.05422993       |\n",
        "|   6   |       0.03904555       |\n",
        "|   7   |       0.02819957       |\n",
        "|   8   |       0.04338395       |\n",
        "|   9   |       0.04989154       |\n",
        "|  10   |       0.04121475       |\n",
        "|  11   |       0.02819957       |\n",
        "\n",
        "### Discussion\n",
        "\n",
        "I was surprised by how quickly the misclassification rate dropped with even the first epoch. We started out with 66% (though that is just what we decided and not what the program gave), then we dropped immediately to 4% and stayed around that area thereafter. I think this shows that the data is quite separable, that it is easier to predict than other data might be."
      ]
    },
    {
      "cell_type": "markdown",
      "metadata": {
        "id": "gVqDebahWhXg"
      },
      "source": [
        "\n",
        "### 3.4 (15%) Hyperparameters\n",
        "Read over all the Hyperparameters and their defaults in the scikit [perceptron documentation](https://scikit-learn.org/stable/modules/generated/sklearn.linear_model.Perceptron.html). With the voting data set, experiment briefly with EACH of the following 6 hyperparameters and discuss your findings.\n",
        "- shuffle\n",
        "- eta0 - learning rate\n",
        "- verbose\n",
        "- fit_intercept - whether to use a bias weight or not\n",
        "- random state\n",
        "- warm start"
      ]
    },
    {
      "cell_type": "code",
      "execution_count": 169,
      "metadata": {
        "id": "p98SODZVWhXg",
        "colab": {
          "base_uri": "https://localhost:8080/"
        },
        "outputId": "9b4b3b86-0cb9-4066-9cd1-f79851a3c68b"
      },
      "outputs": [
        {
          "output_type": "stream",
          "name": "stdout",
          "text": [
            "Weights:  [[-1. -2. -9. 15.  3. -4.  3.  5. -6.  3. -9.  1.  0.  1. -6.  0.]]\n",
            "Bias:  [-6.]\n",
            "Train Accuracy:  0.9409937888198758\n",
            "Test Accuracy:  0.9496402877697842\n",
            "Weights:  [[-1. -2. -9. 15.  3. -4.  3.  5. -6.  3. -9.  1.  0.  1. -6.  0.]]\n",
            "Bias:  [-6.]\n",
            "Train Accuracy:  0.9409937888198758\n",
            "Test Accuracy:  0.9496402877697842\n"
          ]
        }
      ],
      "source": [
        "Xtrain, Xtest, ytrain, ytest = train_test_split(X, y, test_size=0.3)\n",
        "\n",
        "clf = Perceptron(eta0=1, shuffle=True, random_state=123, warm_start=False)\n",
        "clf.fit(Xtrain,ytrain)\n",
        "print(\"Weights: \", clf.coef_)\n",
        "print(\"Bias: \", clf.intercept_)\n",
        "print(\"Train Accuracy: \", clf.score(Xtrain, ytrain))\n",
        "print(\"Test Accuracy: \", clf.score(Xtest, ytest))\n",
        "\n",
        "clf = Perceptron(eta0=1, shuffle=True, random_state=123, warm_start=True)\n",
        "clf.fit(Xtrain,ytrain)\n",
        "print(\"Weights: \", clf.coef_)\n",
        "print(\"Bias: \", clf.intercept_)\n",
        "print(\"Train Accuracy: \", clf.score(Xtrain,ytrain))\n",
        "print(\"Test Accuracy: \", clf.score(Xtest,ytest))"
      ]
    },
    {
      "cell_type": "markdown",
      "metadata": {
        "id": "XdeMfLYhWhXg"
      },
      "source": [
        "### shuffle\n",
        "\n",
        "- Interestingly enough, the model gets better accuracy with its data when it does not shuffle the data. This may be due to the fact that the model is overfitting the training data. Though, with repeat runs, splitting the data into test and train sets, the non-shuffle perceptron does not always do better. It seems that it only does better some of the time.\n",
        "- It does seem like the majority of the time, the shuffle perceptron can generalize to novel data better than the non-shuffle perceptron. So, it does seem that shuffling the data, though it may cost some accuracy in the training model, can lead to greater accuracy with novel data.\n",
        "\n",
        "### eta0\n",
        "\n",
        "- I find that giving the model a larger training value gives the weights larger values in the end (though the weights with 0 seem to stay the same regardless of the training value)\n",
        "- The actual accuracy of the model doesn't seem to change much (unless you give a really low eta0, in which case it gets worse)\n",
        "\n",
        "### verbose\n",
        "\n",
        "- This argument doesn't seem to have to do with the actual model at all. It appears that this argument exists solely to be allow us to see what is happening in the model at the end of each epoch or not.\n",
        "- It seems that the `verbose` argument is similar to True/False, where 0 is false and anything else is true\n",
        "\n",
        "### fit_intercept\n",
        "\n",
        "- Whether or not we have a bias doesn't seem to have a conssitent result on the accuracy of this data. It appears that the perceptron where we do fit the bias is worse than the perceptron where we do not fit the bias about as often as it is better than the other.\n",
        "- I think that other data sets may not show the same result, but for this data set, at least, it seems that having a bias is not that important.\n",
        "\n",
        "### random state\n",
        "\n",
        "- The random state value does not seem to effect the accuracy of the model predictably. Perceptrons with the same state have the same accuracy, but even increasing of decreasing the random state by 1 does not make the accuracy change to be predictably higher or lower.\n",
        "- It is nice that we can use this to ensure that we are getting the same results across different trials, to compare other parts of our model and how they affect the accuracy of our predictions.\n",
        "\n",
        "### warm start\n",
        "\n",
        "- This argument allows us to hold the state of the machine so that we can analyze it as the training progress and do what we like with it.\n",
        "- It does not appear that this argument has any effect on the accuracy of the machine, which makes sense since its job is just to hold the weights and such of the machine across fitting sessions.\n",
        "\n"
      ]
    },
    {
      "cell_type": "markdown",
      "metadata": {
        "id": "mxssT08TzdRH"
      },
      "source": [
        "## 4 (15%) Use the perceptron to learn one other data set of your choice.  \n",
        "- The UC Irvine Data Repository is one great source, but you may get your data set from wherever you like, though it should be a real world task.\n",
        "- Report your results"
      ]
    },
    {
      "cell_type": "code",
      "execution_count": 200,
      "metadata": {
        "id": "hqPZLMf1zdRH",
        "colab": {
          "base_uri": "https://localhost:8080/"
        },
        "outputId": "9ad1e58f-bddf-40eb-fa91-29f5dad36d9a"
      },
      "outputs": [
        {
          "output_type": "stream",
          "name": "stdout",
          "text": [
            "Weights:  [[ -22.2   74.  -252.9  -17.8   26.9   33.7  -11.4   54.4]]\n",
            "Bias:  [-39.5]\n",
            "Train Accuracy:  0.590316573556797\n",
            "Test Accuracy:  0.5584415584415584\n"
          ]
        }
      ],
      "source": [
        "ds = arff.loadarff(\"diabetes.arff\")\n",
        "df = pd.DataFrame(ds[0])\n",
        "dfe = df.apply(LabelEncoder().fit_transform)\n",
        "dnp = dfe.to_numpy()\n",
        "dnpf = dnp.astype(float)\n",
        "\n",
        "X = dnpf[:, :-1]\n",
        "y = dnpf[:, -1]\n",
        "\n",
        "Xtrain, Xtest, ytrain, ytest = train_test_split(X, y, test_size=0.3)\n",
        "\n",
        "clf = Perceptron(shuffle=True, verbose=0, eta0=0.1)\n",
        "clf.fit(Xtrain,ytrain)\n",
        "\n",
        "print(\"Weights: \", clf.coef_)\n",
        "print(\"Bias: \", clf.intercept_)\n",
        "print(\"Train Accuracy: \", clf.score(Xtrain,ytrain))\n",
        "print(\"Test Accuracy: \", clf.score(Xtest, ytest))"
      ]
    },
    {
      "cell_type": "markdown",
      "metadata": {
        "id": "BqSFAXwlk3Ms"
      },
      "source": [
        "*Discussion:* This data set is related to diabetes. It has attributes such as if a person is pregnant, what their age is, and a host of other medical conditions/test results. The class here is predicitng whether someone has diabetes or does not. The accuracy of the prediciton is not nearly as good as the previous data sets. I think this has to do with the fact that diabetes is much more complicated than is political voting. I attempted to mess around with the learning rate to see what impact that could have on the final accuracy, and I found that it would not change anythin about the final accuracy. I tried splitting the data and seeing how the model would do with accuracy of predictions for novel data. I found that the novel data's accuracy was often on par with the training data, sometimes being a bit higher and sometimes a bit lower. I think this goes to show that the model is training well, given what it is, and is able to generalize well to new data, though it does so about as well as it predicts the training data."
      ]
    }
  ],
  "metadata": {
    "colab": {
      "provenance": []
    },
    "kernelspec": {
      "display_name": "Python 2.7.16 64-bit",
      "language": "python",
      "name": "python3"
    },
    "language_info": {
      "codemirror_mode": {
        "name": "ipython",
        "version": 3
      },
      "file_extension": ".py",
      "mimetype": "text/x-python",
      "name": "python",
      "nbconvert_exporter": "python",
      "pygments_lexer": "ipython3",
      "version": "3.11.4"
    },
    "vscode": {
      "interpreter": {
        "hash": "767d51c1340bd893661ea55ea3124f6de3c7a262a8b4abca0554b478b1e2ff90"
      }
    }
  },
  "nbformat": 4,
  "nbformat_minor": 0
}