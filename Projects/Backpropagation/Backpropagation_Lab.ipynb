{
  "cells": [
    {
      "cell_type": "markdown",
      "metadata": {
        "id": "DVL7_bgmIAPR"
      },
      "source": [
        "# Backpropagation Lab\n",
        "\n",
        "\n",
        "\n"
      ]
    },
    {
      "cell_type": "code",
      "execution_count": 8,
      "metadata": {
        "id": "6ZbYjZZZ_yLV"
      },
      "outputs": [],
      "source": [
        "from sklearn.neural_network import MLPClassifier\n",
        "from sklearn.neural_network import MLPRegressor\n",
        "from sklearn.preprocessing import StandardScaler\n",
        "from sklearn.model_selection import train_test_split\n",
        "from sklearn.metrics import accuracy_score\n",
        "from scipy.io import arff\n",
        "import numpy as np\n",
        "import pandas as pd\n",
        "import matplotlib.pyplot as plt\n",
        "from sklearn.metrics import mean_absolute_error"
      ]
    },
    {
      "cell_type": "markdown",
      "metadata": {
        "id": "9vWiTdlbR2Xh"
      },
      "source": [
        "## 1 Avoiding Overfit: Early Stopping and Loss Regularization\n",
        "\n",
        "### 1.1 (10%) No overfit avoidance\n",
        "Train the sklearn [MLP classifier](https://scikit-learn.org/stable/modules/generated/sklearn.neural_network.MLPClassifier.html#sklearn.neural_network.MLPClassifier) on the [Iris Dataset](https://raw.githubusercontent.com/cs472ta/CS472/master/datasets/iris.arff).  Use 3 output nodes (1 per class). Expanding the one output variable into 3 is called one-hot encoding or dummy variable encoding. There are lots of ways to implement this including the Pandas get_dummies method. This experiment is set up to run a little longer to better see the effects of overfit.  Be patient as there are lots of hidden nodes and a high max iterations setting.\n",
        "\n",
        "Use default parameters except for the following:\n",
        "- hidden_layer_sizes = [64] - One hidden layer with 64 hidden nodes\n",
        "- activation = 'logistic'\n",
        "- solver = 'sgd'\n",
        "- alpha = 0\n",
        "- batch_size = 1\n",
        "- learning_rate_init = 0.01\n",
        "- shuffle = True\n",
        "- momentum = 0\n",
        "- n_iter_no_change = 50\n",
        "- max_iterations = 1000\n",
        "\n",
        "Use a random 80/20 split of the data.  Run it a few times with different random training/test splits and give average values for\n",
        "- Number of iterations until convergence\n",
        "- Training set accuracy\n",
        "- Test set accuracy\n",
        "For one run observe the softmax probabilities on the test set using clf.predict_proba"
      ]
    },
    {
      "cell_type": "code",
      "execution_count": 3,
      "metadata": {
        "colab": {
          "base_uri": "https://localhost:8080/"
        },
        "id": "Nwvr_P-z_zZY",
        "outputId": "7171adaa-daf5-4469-949b-a3f6cd9e6049"
      },
      "outputs": [
        {
          "output_type": "stream",
          "name": "stdout",
          "text": [
            "[[6.69210011e-06 3.39949712e-02 9.80875812e-01]\n",
            " [9.99510407e-01 3.88764517e-03 3.88672864e-12]\n",
            " [6.05858070e-06 3.47981724e-02 9.83575533e-01]\n",
            " [3.38090870e-04 9.78174501e-01 6.80154377e-03]\n",
            " [9.98520630e-01 1.59255543e-02 1.39217062e-11]\n",
            " [9.99564690e-01 3.69986556e-03 3.36822019e-12]\n",
            " [8.52025875e-04 9.91690698e-01 1.03481229e-03]\n",
            " [2.04663887e-03 9.97631910e-01 1.61674897e-04]\n",
            " [9.99463930e-01 2.68565343e-03 4.70721341e-12]\n",
            " [3.87182822e-06 2.52547081e-02 9.92520956e-01]\n",
            " [9.99804812e-01 1.28473424e-03 1.43802780e-12]\n",
            " [1.91793031e-06 9.16665564e-03 9.98052658e-01]\n",
            " [9.99448815e-01 4.64244006e-03 4.65705878e-12]\n",
            " [1.74127766e-03 9.97080720e-01 2.40405752e-04]\n",
            " [8.31658623e-04 9.88084629e-01 1.38880837e-03]\n",
            " [9.99406520e-01 2.87329022e-03 5.15860321e-12]\n",
            " [9.99626901e-01 2.56465978e-03 2.94561034e-12]\n",
            " [9.99458590e-01 4.70136737e-03 4.40223046e-12]\n",
            " [1.43270974e-05 1.75852296e-01 8.98339951e-01]\n",
            " [6.00173833e-03 9.95836014e-01 4.82787628e-05]\n",
            " [3.49198851e-04 9.80469143e-01 6.56881125e-03]\n",
            " [4.25493394e-06 1.94281088e-02 9.92540462e-01]\n",
            " [1.49676959e-03 9.97582263e-01 2.57826952e-04]\n",
            " [1.38791484e-05 1.44444931e-01 8.92388092e-01]\n",
            " [4.69001354e-04 9.75799799e-01 4.69659229e-03]\n",
            " [7.11076988e-04 9.83695230e-01 1.90318900e-03]\n",
            " [9.98682757e-01 1.22884398e-02 1.25758277e-11]\n",
            " [9.99791023e-01 8.28620113e-04 1.53713006e-12]\n",
            " [2.34461715e-02 9.95884093e-01 5.03640567e-06]\n",
            " [9.99386684e-01 4.98921226e-03 5.12261081e-12]]\n"
          ]
        }
      ],
      "source": [
        "def getData(filename, cols):\n",
        "  data_arff = arff.loadarff(filename)\n",
        "  data_pd = pd.DataFrame(data_arff[0])\n",
        "  data_pd_one_hot = pd.get_dummies(data_pd, columns=cols, dtype=int)\n",
        "  data_np = data_pd_one_hot.to_numpy()\n",
        "  X = data_np[:,:-3]\n",
        "  Y = data_np[:,-3:]\n",
        "\n",
        "  Xtrain, Xtest, ytrain, ytest = train_test_split(X, Y, test_size=0.2)\n",
        "\n",
        "  return Xtrain, Xtest, ytrain, ytest\n",
        "\n",
        "def runModel(Xtrain, Xtest, ytrain, ytest):\n",
        "  clf = MLPClassifier(hidden_layer_sizes=[64], activation='logistic', solver='sgd',alpha=0,batch_size=1, learning_rate_init=0.01, shuffle=True, momentum=0, n_iter_no_change=50, max_iter=1000)\n",
        "  clf.fit(Xtrain, ytrain)\n",
        "  trainAcc = clf.score(Xtrain, ytrain)\n",
        "  testAcc = clf.score(Xtest, ytest)\n",
        "  iters = clf.n_iter_\n",
        "\n",
        "  return trainAcc, testAcc, iters, clf\n",
        "\n",
        "# numIters = []\n",
        "# trainAccs = []\n",
        "# testAccs = []\n",
        "\n",
        "# for i in range(8):\n",
        "#   Xtrain, Xtest, ytrain, ytest = getData(\"iris.arff\", ['class'])\n",
        "#   trainAcc, testAcc, iters = runModel(Xtrain, Xtest, ytrain, ytest)\n",
        "#   numIters.append(iters)\n",
        "#   trainAccs.append(trainAcc)\n",
        "#   testAccs.append(testAcc)\n",
        "\n",
        "# print(numIters)\n",
        "# print(sum(numIters)/len(numIters))\n",
        "# print(trainAccs)\n",
        "# print(sum(trainAccs)/len(trainAccs))\n",
        "# print(testAccs)\n",
        "# print(sum(testAccs)/len(testAccs))\n",
        "\n",
        "Xtrain, Xtest, ytrain, ytest = getData(\"iris.arff\", ['class'])\n",
        "*_, clf = runModel(Xtrain, Xtest, ytrain, ytest)\n",
        "print(clf.predict_proba(Xtest))\n"
      ]
    },
    {
      "cell_type": "markdown",
      "source": [
        "***Discussion:***\n",
        "\n",
        "|  Run  | Iterations | Training Accuracy | Test Accuracy |\n",
        "| :---: | :--------: | :--------: | :---: |\n",
        "|  1  | 415 | 96.6 | 96.6 |\n",
        "|  2  | 354 | 96.6 | 96.6 |\n",
        "|  3  | 266 | 98.3 | 93.3 |\n",
        "|  4  | 354 | 97.5 | 93.3 |\n",
        "|  5  | 371 | 97.5 | 96.6 |\n",
        "|  6  | 379 | 97.5 | 96.6 |\n",
        "|  7  | 409 | 94.2 | 93.3 |\n",
        "|  8  | 324 | 98.3 | 96.6 |\n",
        "| **Avg** | **359** | **97.1** | **95.4** |\n",
        "\n",
        "I observe that the training set accuracy is quite constant, never varying too much from the highest probability. This mkaes sense, since we are training the model without early stopping, we are getting as accurate as possible on the training set as we fit our model. Even so, the accuracy on the test set is quite good across all runs, which I did not really expect. I guess, with the iris data, this may be a bad accuracy, but it is still quite decent. Furthermore, the test set is just a subset of the original data, so maybe the model wouldn't generalize as well to novel data that is less like the training set.\n",
        "\n",
        "Observing the probabilities output for one of the test sets, it is easy to see that the model is usually quite confident in the class that it predicts. There is really only one class that is close to 1, while the others are super small. This is impressive, and shows how well the model has fit the data."
      ],
      "metadata": {
        "id": "hD_o7m7yz911"
      }
    },
    {
      "cell_type": "markdown",
      "metadata": {
        "id": "AGuFUhMG_zZZ"
      },
      "source": [
        "### 1.2 (10%) Early Stopping (Validation Set)\n",
        "\n",
        "- Do the same as above but his time with early stopping\n",
        "- Use a validation set taken from the training set for your stopping criteria. Using 10-15% of the training set for a validation set is common. You do this simply by setting the MLPClassifier early_stopping, validation_fraction, and n_iter_no_change parameters.\n",
        "- Run it a few times with different training/test splits and give average values for\n",
        "    - Number of iterations until convergence\n",
        "    - Training set accuracy\n",
        "    - Test set accuracy\n",
        "    - Best validation score (MLPClassifer attribute best_validation_score_)\n",
        "- For one run create a graph with validation set accuracy (*y*-axis) vs epochs (*x*-axis). Hint: MLPClassifer attribute validation_scores_\n",
        "\n",
        "Note: Due to the simplicity of and lack of noise in the iris data set you will not see the accuracy improvements that early stopping or loss regularization can give for more complex noisy datasets.  In particular, early stopping will have lower than expected results because with a very small VS taken from a very small training set there is less data to train on and more variance with the VS score.  Thus, you will probably get lower accuracies for VS than normal training for this less typical case.  But at least you will get practice on using early stopping and loss regularization for future data sets."
      ]
    },
    {
      "cell_type": "code",
      "execution_count": 13,
      "metadata": {
        "id": "0d-LUbiD_zZZ",
        "colab": {
          "base_uri": "https://localhost:8080/",
          "height": 449
        },
        "outputId": "31672138-7396-4836-ecb1-81b888b6d5c4"
      },
      "outputs": [
        {
          "output_type": "display_data",
          "data": {
            "text/plain": [
              "<Figure size 640x480 with 1 Axes>"
            ],
            "image/png": "[encoded data removed]"
          },
          "metadata": {}
        }
      ],
      "source": [
        "def runModelVal(Xtrain, Xtest, ytrain, ytest):\n",
        "  clf = MLPClassifier(hidden_layer_sizes=[64], activation='logistic', solver='sgd',alpha=0,batch_size=1, learning_rate_init=0.01, shuffle=True, momentum=0, n_iter_no_change=50, max_iter=1000, early_stopping = True, validation_fraction = 0.15)\n",
        "  clf.fit(Xtrain, ytrain)\n",
        "  trainAcc = clf.score(Xtrain, ytrain)\n",
        "  testAcc = clf.score(Xtest, ytest)\n",
        "  iters = clf.n_iter_\n",
        "\n",
        "  return trainAcc, testAcc, iters, clf\n",
        "\n",
        "# numIters = []\n",
        "# trainAccs = []\n",
        "# testAccs = []\n",
        "# bestVal = []\n",
        "\n",
        "# for i in range(8):\n",
        "#   Xtrain, Xtest, ytrain, ytest = getData(\"iris.arff\", ['class'])\n",
        "#   trainAcc, testAcc, iters, clf = runModelVal(Xtrain, Xtest, ytrain, ytest)\n",
        "#   numIters.append(round(iters, 1))\n",
        "#   trainAccs.append(round(trainAcc*100, 1))\n",
        "#   testAccs.append(round(testAcc*100, 1))\n",
        "#   bestVal.append(round(clf.best_validation_score_*100, 1))\n",
        "\n",
        "# print(numIters)\n",
        "# print(sum(numIters)/len(numIters))\n",
        "# print(trainAccs)\n",
        "# print(sum(trainAccs)/len(trainAccs))\n",
        "# print(testAccs)\n",
        "# print(sum(testAccs)/len(testAccs))\n",
        "# print(bestVal)\n",
        "# print(sum(bestVal)/len(bestVal))\n",
        "\n",
        "Xtrain, Xtest, ytrain, ytest = getData(\"iris.arff\", ['class'])\n",
        "*_, clf = runModelVal(Xtrain, Xtest, ytrain, ytest)\n",
        "scores = clf.validation_scores_\n",
        "plt.plot(list(range(1, len(scores) + 1)), scores)\n",
        "plt.xlabel(\"Epochs\")\n",
        "plt.ylabel(\"Validation Set Accuracy\")\n",
        "plt.show()\n"
      ]
    },
    {
      "cell_type": "markdown",
      "metadata": {
        "id": "ZNMATZqjtlxs"
      },
      "source": [
        "***Discussion:***\n",
        "\n",
        "|  Run  | Iterations | Training Accuracy | Test Accuracy | Best Validation Score |\n",
        "| :---: | :--------: | :--------: | :---: | :---: |\n",
        "|  1  | 119 | 94.2 | 90.0 | 94.4  |\n",
        "|  2  | 127 | 96.7 | 96.7 | 100.0 |\n",
        "|  3  | 111 | 96.7 | 90.0 | 100.0 |\n",
        "|  4  | 121 | 96.7 | 90.0 | 94.4  |\n",
        "|  5  | 113 | 90.0 | 93.3 | 100.0 |\n",
        "|  6  | 122 | 97.5 | 96.7 | 100.0 |\n",
        "|  7  | 58  | 67.5 | 60.0 | 61.1  |\n",
        "|  8  | 126 | 97.5 | 96.7 | 100.0 |\n",
        "| **Avg** | **112** | **92.1** | **89.2** | **93.7** |\n",
        "\n",
        "I observe that the model did quite a bit worse on all things when we did early stopping, though that is to be expected due to the simplicity of the data set and the lack of noise. OVerfitting the data set is not a problem due to its relatively low lack of noise, so stopping early just causes us not to fit the data as well as we could accurately do. It was interesting to see that there was one run in particular that did terrible compared to any this time or last. Random chance led to that, I assume. It was also interesting to see that the best validation score was often 100%.\n",
        "\n",
        "For the plot of validation scores by epoch, it was interesting to see that there were plateaus along the way to the high score. I wonder if this comes from the network getting caught up in training and not improving for some time as it slowly changes the weights (since the learning rate is so small, the network seems to be able to get stuck in troughs or the like in an arror curve). The curve was also not very smooth, but it did follow a general upward trend, which is to be expected.\n"
      ]
    },
    {
      "cell_type": "markdown",
      "metadata": {
        "id": "tsLM3dE3_zZa"
      },
      "source": [
        "### 1.3 (10%) Loss Regularization\n",
        "\n",
        "- Do the same as in 1.1 but his time with loss regularization (Do not do early stopping)\n",
        "- Run it with different L2 regularization parameter values (alpha).  The default for alpha is .0001.  Try other values such as .1, .01, .001, .00001, etc. Make a table with each row including:\n",
        "    - The regularization parameter value\n",
        "    - Number of iterations until convergence\n",
        "    - Training set accuracy\n",
        "    - Test set accuracy\n",
        "    - Best loss value (MLPClassifer attribute best_loss_)\n",
        "- Which regularization value gave you the best results?\n",
        "- For your best regularization value do one run and create a graph with loss (*y*-axis) vs epochs (*x*-axis) for the training set (Hint: MLPClassifer attribute loss_curve_)"
      ]
    },
    {
      "cell_type": "code",
      "execution_count": 16,
      "metadata": {
        "id": "pZ3s0T_7_zZa",
        "colab": {
          "base_uri": "https://localhost:8080/",
          "height": 449
        },
        "outputId": "dc0887aa-10d4-4af2-d183-e67d42792961"
      },
      "outputs": [
        {
          "output_type": "display_data",
          "data": {
            "text/plain": [
              "<Figure size 640x480 with 1 Axes>"
            ],
            "image/png": "[encoded data removed]"
          },
          "metadata": {}
        }
      ],
      "source": [
        "def runModelLoss(Xtrain, Xtest, ytrain, ytest, loss):\n",
        "  clf = MLPClassifier(hidden_layer_sizes=[64], activation='logistic', solver='sgd',alpha=loss,batch_size=1, learning_rate_init=0.01, shuffle=True, momentum=0, n_iter_no_change=50, max_iter=1000)\n",
        "  clf.fit(Xtrain, ytrain)\n",
        "  trainAcc = clf.score(Xtrain, ytrain)\n",
        "  testAcc = clf.score(Xtest, ytest)\n",
        "  iters = clf.n_iter_\n",
        "\n",
        "  return trainAcc, testAcc, iters, clf\n",
        "\n",
        "# numIters = []\n",
        "# trainAccs = []\n",
        "# testAccs = []\n",
        "# bestLoss = []\n",
        "\n",
        "# alphas = [0.1, 0.01, 0.001, 0.0001, 0.00001, 0.000001, 0.0000001, 0.00000001]\n",
        "# for i in alphas:\n",
        "#   Xtrain, Xtest, ytrain, ytest = getData(\"iris.arff\", ['class'])\n",
        "#   trainAcc, testAcc, iters, clf = runModelLoss(Xtrain, Xtest, ytrain, ytest, i)\n",
        "#   numIters.append(round(iters, 1))\n",
        "#   trainAccs.append(round(trainAcc*100, 1))\n",
        "#   testAccs.append(round(testAcc*100, 1))\n",
        "#   bestLoss.append(round(clf.best_loss_*100, 1))\n",
        "\n",
        "# print(numIters)\n",
        "# print(trainAccs)\n",
        "# print(testAccs)\n",
        "# print(bestLoss)\n",
        "\n",
        "Xtrain, Xtest, ytrain, ytest = getData(\"iris.arff\", ['class'])\n",
        "*_, clf = runModelLoss(Xtrain, Xtest, ytrain, ytest, 0.00001)\n",
        "loss_curve = clf.loss_curve_\n",
        "plt.plot(list(range(1, len(loss_curve) + 1)), loss_curve)\n",
        "plt.xlabel(\"Epochs\")\n",
        "plt.ylabel(\"Loss\")\n",
        "plt.show()"
      ]
    },
    {
      "cell_type": "markdown",
      "metadata": {
        "id": "3W8h27im_zZa"
      },
      "source": [
        "***Discussion:***\n",
        "\n",
        "|  Run  | Iterations | Training Accuracy | Test Accuracy | Best Loss Value |\n",
        "| :---: | :--------: | :--------: | :---: | :---: |\n",
        "|  0.1  | 149 | 46.7 | 43.3 | 163.5 |\n",
        "|  0.01  | 464 | 97.5 | 100.0 | 74.2 |\n",
        "|  0.001  | 296 | 97.5 | 96.7 | 23.6 |\n",
        "|  0.0001  | 261 | 98.3 | 93.3 | 13.1  |\n",
        "|  0.00001  | 371 | 97.5 | 100.0 | 11.8 |\n",
        "|  0.000001  | 359 | 98.3 | 93.3 | 10.0 |\n",
        "|  0.0000001  | 302  | 96.7 | 96.7 | 13.5  |\n",
        "\n",
        "The regularization value $\\alpha = 0.00001$ gave me the best results, with both good accuracies and a great best loss.\n",
        "\n",
        "For the iris data set, it seems like a MLP with no regularization or early stopping gives the best results. This, again, must just be because the data does not have the noise that is common for other data sets which would make these techniques more helpful. Regardess, I can see that early stopping may be useful for more noist data."
      ]
    },
    {
      "cell_type": "markdown",
      "metadata": {
        "id": "mOteTlV6S0bq"
      },
      "source": [
        "## 2 Hyperparameters\n",
        "In this section we use the [Vowel Dataset](https://raw.githubusercontent.com/cs472ta/CS472/master/datasets/vowel.arff) to consider the hyperparameters of learning rate, number of hidden nodes, and momentum.\n",
        "\n",
        "### 2.1 (10%) Vowel Dataset Questions\n",
        "- Give the baseline accuracies for the Iris and Vowel datasets. Baseline accuracy is what you would get if the model just outputs the majority class of the data set (i.e. the output value which occurs most often). These two data sets are not great example for this as they have an equal amount of each class, which is not typical.\n",
        "- Discuss why the vowel data set will probably have lower accuracy than Iris.\n",
        "- Consider which of the vowel dataset's input features you should not use in training and discuss why."
      ]
    },
    {
      "cell_type": "code",
      "source": [
        "vowel_data = arff.loadarff(\"vowel.arff\")\n",
        "vowel_data_pd = pd.DataFrame(vowel_data[0])\n",
        "print(vowel_data_pd.value_counts(\"Class\"))\n",
        "\n",
        "iris_data = arff.loadarff(\"iris.arff\")\n",
        "iris_data_pd = pd.DataFrame(iris_data[0])\n",
        "print(iris_data_pd.value_counts(\"class\"))"
      ],
      "metadata": {
        "colab": {
          "base_uri": "https://localhost:8080/"
        },
        "id": "9357QmOOB9jv",
        "outputId": "29454d7f-4e04-49a0-eb13-3d5a3a339737"
      },
      "execution_count": 36,
      "outputs": [
        {
          "output_type": "stream",
          "name": "stdout",
          "text": [
            "Class\n",
            "b'hAd'    90\n",
            "b'hEd'    90\n",
            "b'hId'    90\n",
            "b'hOd'    90\n",
            "b'hUd'    90\n",
            "b'hYd'    90\n",
            "b'had'    90\n",
            "b'hed'    90\n",
            "b'hid'    90\n",
            "b'hod'    90\n",
            "b'hud'    90\n",
            "Name: count, dtype: int64\n",
            "class\n",
            "b'Iris-setosa'        50\n",
            "b'Iris-versicolor'    50\n",
            "b'Iris-virginica'     50\n",
            "Name: count, dtype: int64\n"
          ]
        }
      ]
    },
    {
      "cell_type": "markdown",
      "metadata": {
        "id": "qmq9GSbJS8k2"
      },
      "source": [
        "***Discussion:***\n",
        "\n",
        "For the Iris data set, the baseline accuracy would be 33% (as all classes are of equal size and there are three classes).\n",
        "\n",
        "For the Vowel data set, the baseline accuracy would be 9% (as all classes are of equal size and there are eleven classes). This is much worse than the Iris baseline accuracy. The fact that this data set has so many classes will contirbute to the lower accuracy compared to the Iris data set even after training, I think.\n",
        "\n",
        "I think the feature that should not be used in the training is the speaker name. This should be unique for each speaker (or if it is not, probably should not relate at all to the class outcome), and so does not really provide any information to the model when it is trained. It is useless to have in there, as the model will likely just weight it to 0 anyway.\n",
        "\n",
        "Likewise, I do not think the sex of the speaker should matter in considering the pronunciation of a vowel, so I do not think that this should have any effect on the Class outcome. However, it may be that the speaker's sex does relate to the Class outcome, so I do not think we should get rid of it.\n",
        "\n",
        "I do not think it is important to keep the Train or Test column either, as this does not actually tell us anything about the Class or features, but rather tells us how we can split the data for training and testing. So, I think we can get rid of that feature too."
      ]
    },
    {
      "cell_type": "markdown",
      "metadata": {
        "id": "SIRG42TgSR4x"
      },
      "source": [
        "### 2.2 (10%) Learning Rate\n",
        "Load the [Vowel Dataset](https://raw.githubusercontent.com/cs472ta/CS472/master/datasets/vowel.arff). Drop any features which you explained above as being inappropriate for training.\n",
        "\n",
        "Hints: Consider the Pandas drop method for dropping columns. When you want to transform features in your data set there are lots of approaches. You could edit the arff file directly, or make the transforms in your code.  The Pandas replace method is nice for that. For example, if you wanted to change the vowel data set gender feature in a Pandas dataframe to 0/1 you could do the following:\n",
        "\n",
        "vowel_df['Sex'] = vowel_df['Sex'].str.decode('utf-8')   //Changes the byte code data into a normal string, b'Male' becomes \"Male\"\\\n",
        "vowel_df = vowel_df.replace('Male', 0)\\\n",
        "vowel_df = vowel_df.replace('Female', 1)\n",
        "\n",
        "- Use one layer of hidden nodes with the number of hidden nodes being twice the number of inputs.\n",
        "- Use a random 75/25 split of the data for the training/test set.\n",
        "- Do not use early stopping.\n",
        "- Try at least 5 different learning rates (LR) from very small (e.g. .001) to pretty big (e.g. 10). Each LR will require a different number of epochs to learn. LR effects both accuracy and time required for learning.\n",
        "- Create a table which includes a row for each LR.  Your table columns should be LR, # epochs to learn the model, final training set accuracy and final test set accuracy.  As learning rates get smaller, it usually takes more epochs to learn. If your model is stopping learning too soon (converging) by hitting max_iterations (in this case and in experiments below), then you need to increase your max_iterations parameter in order to give your model more learning time.  To keep things faster, you don't need to increase max_iter past 1000 if you don't want to, but point out when more iterations may have given improvement.\n",
        "\n",
        "In real testing one averages the results of multiple trials per LR (and other parameters) with different intitial conditions (training/test split, initial weights, etc.). That gives more accurate results but is not required for this lab."
      ]
    },
    {
      "cell_type": "code",
      "execution_count": 16,
      "metadata": {
        "id": "KBGUn43ASiXW",
        "colab": {
          "base_uri": "https://localhost:8080/"
        },
        "outputId": "0a819562-9f15-4273-b8a0-8eb53fd55751"
      },
      "outputs": [
        {
          "output_type": "stream",
          "name": "stdout",
          "text": [
            "[]\n",
            "[]\n",
            "[]\n"
          ]
        }
      ],
      "source": [
        "def getDataVowel():\n",
        "  data_arff = arff.loadarff(\"vowel.arff\")\n",
        "  data_pd = pd.DataFrame(data_arff[0])\n",
        "  data_drop = data_pd.drop([\"Train or Test\", \"Speaker Number\"], axis = 1)\n",
        "  data_bin = data_drop.replace(b'Male', 0).replace(b'Female', 1)\n",
        "  data_one_hot = pd.get_dummies(data_bin, columns=['Class'], dtype=int)\n",
        "  data_np = data_one_hot.to_numpy()\n",
        "  X = data_np[:,:-12]\n",
        "  Y = data_np[:,-11:]\n",
        "\n",
        "  return X, Y\n",
        "\n",
        "def runModelLR(Xtrain, Xtest, ytrain, ytest, rate):\n",
        "  clf = MLPClassifier(hidden_layer_sizes=[22], activation='logistic', solver='sgd',alpha=0,batch_size=1, learning_rate_init=rate, shuffle=True, momentum=0, n_iter_no_change=50, max_iter=2000)\n",
        "  clf.fit(Xtrain, ytrain)\n",
        "  trainAcc = clf.score(Xtrain, ytrain)\n",
        "  testAcc = clf.score(Xtest, ytest)\n",
        "\n",
        "  return trainAcc, testAcc, clf\n",
        "\n",
        "trainAccs = []\n",
        "testAccs = []\n",
        "epochs = []\n",
        "\n",
        "rates = [0.0001, 0.01, 0.01, 1, 10]\n",
        "\n",
        "# for i in rates:\n",
        "#   Xtrain, Xtest, ytrain, ytest = train_test_split(X, Y, test_size=0.25)\n",
        "#   trainAcc, testAcc, clf = runModelLR(Xtrain, Xtest, ytrain, ytest, i)\n",
        "#   trainAccs.append(trainAcc)\n",
        "#   testAccs.append(testAcc)\n",
        "#   epochs.append(clf.n_iter_)\n",
        "\n",
        "print(trainAccs)\n",
        "print(testAccs)\n",
        "print(epochs)"
      ]
    },
    {
      "cell_type": "markdown",
      "metadata": {
        "id": "xpjJBIwktlxt"
      },
      "source": [
        "***Discussion:***\n",
        "\n",
        "| Learning Rate | Epochs | Training Accuracy | Test Accuracy |\n",
        "| :-----------: | :----: | :---------------: | :-----------: |\n",
        "|    0.0001     |  2,000 |       14.4        |      10.1     |\n",
        "|     0.01      |  1,515 |       96.5        |      83.9     |\n",
        "|     **0.1**       |    **859** |       **98.6**        |      **80.2**     |\n",
        "|      1        |    212 |       52.6        |      53.6     |\n",
        "|     10        |     63 |       9.9         |       6.5     |\n",
        "\n",
        "As for the time, the lower learning rates (0.0001 and 0.01) took forever to run (upwards of 10 minutes), which wasn't too surprising since the rate was extremely low. It also reached the max number of iterations, which I set to be 2000. So, smaller learning rates take a lot longer to learn and many more epochs to do so, since the changes they can make each time are so small.\n",
        "\n",
        "As for the accuracy, it was pretty bad for the lowest rates, because they couldn't finish their training in a good number of epochs. For the greater learning rates, the accuracy was also fairly bad, since they were making too large of changes in the fitting process. The training accuracy was much better than the test accuracy, there was a bigger difference between these two in this set than the Iris set.\n",
        "\n",
        "The learning rate that is the best is 0.1, as it gives a good training set accuracy and almost the highest test set accuracy, while using half as many epochs as the next best learning rate."
      ]
    },
    {
      "cell_type": "markdown",
      "metadata": {
        "id": "A-nUu5Txtlxt"
      },
      "source": [
        "### 2.3 (10%) Number of Hidden Nodes\n",
        "\n",
        "Using the best LR you discovered, experiment with different numbers of hidden nodes.\n",
        "\n",
        "- Start with 1 hidden node, then 2, and then double them for each test until you get no more improvement in accuracy.\n",
        "- Create a table just like above, except with # of hidden nodes rather than LR.\n",
        "\n",
        "In general, whenever you are testing a parameter such as # of hidden nodes, keep testing values until no more improvement is found. For example, if 20 hidden nodes did better than 10, you would not stop at 20, but would try 40, etc., until you no longer got improvement."
      ]
    },
    {
      "cell_type": "code",
      "execution_count": 70,
      "metadata": {
        "id": "uLqeA1iutlxt",
        "colab": {
          "base_uri": "https://localhost:8080/"
        },
        "outputId": "1c789871-4bd0-447c-f469-518d1fe3792f"
      },
      "outputs": [
        {
          "output_type": "stream",
          "name": "stderr",
          "text": [
            "<ipython-input-60-130ffc0b68c0>:5: FutureWarning: Downcasting behavior in `replace` is deprecated and will be removed in a future version. To retain the old behavior, explicitly call `result.infer_objects(copy=False)`. To opt-in to the future behavior, set `pd.set_option('future.no_silent_downcasting', True)`\n",
            "  data_bin = data_drop.replace(b'Male', 0).replace(b'Female', 1)\n"
          ]
        },
        {
          "output_type": "stream",
          "name": "stdout",
          "text": [
            "1.0\n",
            "0.8951612903225806\n",
            "590\n"
          ]
        }
      ],
      "source": [
        "X, Y = getDataVowel()\n",
        "Xtrain, Xtest, ytrain, ytest = train_test_split(X, Y, test_size=0.25)\n",
        "clf = MLPClassifier(hidden_layer_sizes=[128], activation='logistic', solver='sgd',alpha=0,batch_size=1, learning_rate_init=0.1, shuffle=True, momentum=0, n_iter_no_change=50, max_iter=2000)\n",
        "clf.fit(Xtrain, ytrain)\n",
        "print(clf.score(Xtrain, ytrain))\n",
        "print(clf.score(Xtest, ytest))\n",
        "print(clf.n_iter_)"
      ]
    },
    {
      "cell_type": "markdown",
      "metadata": {
        "id": "CLliSMtXtlxt"
      },
      "source": [
        "***Discussion:***\n",
        "\n",
        "|  Hidden Nodes | Epochs | Training Accuracy | Test Accuracy |\n",
        "| :-----------: | :----: | :---------------: | :-----------: |\n",
        "|       1       |   185  |        0.0        |      0.0      |\n",
        "|       2       |   324  |       15.1        |     10.0      |\n",
        "|       4       |   166  |       45.1        |     42.7      |\n",
        "|       8       |   344  |       62.9        |     57.3      |\n",
        "|       16      |   514  |       86.7        |     74.6      |\n",
        "|       **32**      | **1,915**  |      **100.0**        |     **90.3**      |\n",
        "|       64      |   590  |      100.0        |     89.5      |\n",
        "\n",
        "For the time, it seemed that the more nodes I put in the hidden layer, the longer the fitting took. This was not a strict upwards trend, as some layers with more nodes took less time than some layers iwth less nodes. But overall, more nodes meant longer time (which makes sense since there is just that much more to update each epoch).\n",
        "\n",
        "As for the accuracy, the more nodes in the hidden layer, the better the accuracy. The accuracy, starting with only one node, started out terrible (which makes sense since one node cannot do anything really by itself). It increased by roughly 20% with each doubling of the hidden layer nodes. The test set accuracy also increased, but not so drastically and not to the same extent as the training set accuracy.\n",
        "\n",
        "The best number of nodes to have in the hidden layer is 32. This number gets great accuracy on the training set while still having good accuracy on the test set. It did take more time to run, but it gave the best test set accuracy (better even than the layer with 64 nodes, which was surprising to me)."
      ]
    },
    {
      "cell_type": "markdown",
      "metadata": {
        "id": "v72ryeHXtlxu"
      },
      "source": [
        "### 2.4 (10%) Momentum\n",
        "\n",
        "Try at least 5 different momentum terms between 0 and just less than 1 using the best number of hidden nodes and LR from your earlier experiments.\n",
        "\n",
        "- Create a table just like above, except with momentum values rather than LR or number of hidden nodes."
      ]
    },
    {
      "cell_type": "code",
      "execution_count": 88,
      "metadata": {
        "id": "yiEBTL6Vtlxu",
        "colab": {
          "base_uri": "https://localhost:8080/"
        },
        "outputId": "e8ac3ebf-e623-4900-b2ec-0293b4290ff3"
      },
      "outputs": [
        {
          "output_type": "stream",
          "name": "stderr",
          "text": [
            "<ipython-input-60-130ffc0b68c0>:5: FutureWarning: Downcasting behavior in `replace` is deprecated and will be removed in a future version. To retain the old behavior, explicitly call `result.infer_objects(copy=False)`. To opt-in to the future behavior, set `pd.set_option('future.no_silent_downcasting', True)`\n",
            "  data_bin = data_drop.replace(b'Male', 0).replace(b'Female', 1)\n"
          ]
        },
        {
          "output_type": "stream",
          "name": "stdout",
          "text": [
            "[1.0, 1.0, 0.9433962264150944, 0.9339622641509434, 0.0]\n",
            "[0.8508064516129032, 0.8548387096774194, 0.7903225806451613, 0.782258064516129, 0.0]\n",
            "[690, 458, 190, 396, 56]\n"
          ]
        }
      ],
      "source": [
        "def runModelMom(Xtrain, Xtest, ytrain, ytest, mom):\n",
        "  clf = MLPClassifier(hidden_layer_sizes=[32], activation='logistic', solver='sgd',alpha=0,batch_size=1, learning_rate_init=0.1, shuffle=True, momentum=mom, n_iter_no_change=50, max_iter=2000)\n",
        "  clf.fit(Xtrain, ytrain)\n",
        "  trainAcc = clf.score(Xtrain, ytrain)\n",
        "  testAcc = clf.score(Xtest, ytest)\n",
        "\n",
        "  return trainAcc, testAcc, clf\n",
        "\n",
        "trainAccs = []\n",
        "testAccs = []\n",
        "epochs = []\n",
        "\n",
        "momenta = [0.2, 0.4, 0.6, 0.8, 0.99]\n",
        "\n",
        "X, Y = getDataVowel()\n",
        "\n",
        "for i in momenta:\n",
        "  Xtrain, Xtest, ytrain, ytest = train_test_split(X, Y, test_size=0.25)\n",
        "  trainAcc, testAcc, clf = runModelMom(Xtrain, Xtest, ytrain, ytest, i)\n",
        "  trainAccs.append(trainAcc)\n",
        "  testAccs.append(testAcc)\n",
        "  epochs.append(clf.n_iter_)\n",
        "\n",
        "print(trainAccs)\n",
        "print(testAccs)\n",
        "print(epochs)"
      ]
    },
    {
      "cell_type": "markdown",
      "metadata": {
        "id": "LqidhekCtlxu"
      },
      "source": [
        "***Discussion:***\n",
        "\n",
        "|  Momentum | Epochs | Training Accuracy | Test Accuracy |\n",
        "| :-------: | :----: | :---------------: | :-----------: |\n",
        "|   0.2     |  690   |       100.0       |      85.1     |\n",
        "|   0.4     |  458   |       100.0       |      85.4     |\n",
        "|   0.6     |  190   |        94.3       |      79.0     |\n",
        "|   0.8     |  396   |        93.3       |      78.2     |\n",
        "|   0.99    |   56   |         0.0       |       0.0     |\n",
        "\n",
        "For the time taken, none of the runs took that long. The ones with larger momentum took less time, since they were jumping around so much I would guess.\n",
        "\n",
        "As for the accuracy, the smaller momenta had better accuracies on both the training and test set. It was interesting to see that a momentum so close to 1 provded no accuracy on either the training or the test set, I suppose because it was moving too far and couldn't actually find a good minimum because of that.\n",
        "\n",
        "The best momentum seems to be around 0.2 or 0.4, since those had great accuracy on both sets. I will say 0.4 since it has comparable accuracy to 0.2, but took less epochs to finish."
      ]
    },
    {
      "cell_type": "markdown",
      "metadata": {
        "id": "7hHxNgUCtlxv"
      },
      "source": [
        "### 2.5 (10%) Automatic Hyperparameter Discovery\n",
        "Using the vowel dataset, automatically adjust the LR, # of hidden nodes, and momentum using [grid and random search](https://scikit-learn.org/stable/modules/grid_search.html)\n",
        "- For grid search include the most promising hyperparameter values you used in your experiments above.  You may add others also.\n",
        "- Be patient as the grid search can take a while since it has to train all combinations of models. Don't use too many parameter options or it will be too slow.\n",
        "- Report your best hyperparameters and accuracy.  Unfortunately, you will not always get as high a score as you might expect.  This is in part due to the simplicity of the dataset.  It also teaches that in gerneral you should not blindly assume that a tool will get you the results you expect, and that you may need to consider multiple approaches."
      ]
    },
    {
      "cell_type": "code",
      "execution_count": 17,
      "metadata": {
        "id": "KHAJZzpb_zZd",
        "colab": {
          "base_uri": "https://localhost:8080/"
        },
        "outputId": "0527ad69-0565-45ad-904e-61ceb5819f97"
      },
      "outputs": [
        {
          "output_type": "stream",
          "name": "stderr",
          "text": [
            "<ipython-input-16-92c255db5265>:5: FutureWarning: Downcasting behavior in `replace` is deprecated and will be removed in a future version. To retain the old behavior, explicitly call `result.infer_objects(copy=False)`. To opt-in to the future behavior, set `pd.set_option('future.no_silent_downcasting', True)`\n",
            "  data_bin = data_drop.replace(b'Male', 0).replace(b'Female', 1)\n"
          ]
        },
        {
          "output_type": "stream",
          "name": "stdout",
          "text": [
            "{'hidden_layer_sizes': [64], 'learning_rate_init': 0.1, 'momentum': 0.6}\n",
            "0.4434343434343434\n"
          ]
        }
      ],
      "source": [
        "#Grid search for hyperparameters.\n",
        "#Here is one variation of code you could use for your grid search. You can try your own variation if you prefer.\n",
        "\n",
        "X, Y = getDataVowel()\n",
        "\n",
        "from sklearn.model_selection import GridSearchCV\n",
        "clf = MLPClassifier(activation='logistic', solver='sgd',alpha=0,early_stopping=True, n_iter_no_change=10, batch_size=1)\n",
        "parameters = {'learning_rate_init':(0.01, 0.1, 1, 3, 6, 9), #You have to fill in the rest of your values for these lists\n",
        "              'hidden_layer_sizes': ([8], [16], [32], [64]),\n",
        "              'momentum':(0, 0.2, 0.4, 0.6, 0.8, 0.99)}\n",
        "grid = GridSearchCV(clf, parameters)\n",
        "grid.fit(X,Y)    #This takes a while to run\n",
        "print(grid.best_params_)\n",
        "print(grid.best_score_)"
      ]
    },
    {
      "cell_type": "code",
      "execution_count": 18,
      "metadata": {
        "id": "wdunbC06_zZd",
        "colab": {
          "base_uri": "https://localhost:8080/"
        },
        "outputId": "a650a24f-57bd-4cbd-8417-1c0b9c1a5276"
      },
      "outputs": [
        {
          "output_type": "stream",
          "name": "stderr",
          "text": [
            "<ipython-input-16-92c255db5265>:5: FutureWarning: Downcasting behavior in `replace` is deprecated and will be removed in a future version. To retain the old behavior, explicitly call `result.infer_objects(copy=False)`. To opt-in to the future behavior, set `pd.set_option('future.no_silent_downcasting', True)`\n",
            "  data_bin = data_drop.replace(b'Male', 0).replace(b'Female', 1)\n"
          ]
        },
        {
          "output_type": "stream",
          "name": "stdout",
          "text": [
            "{'hidden_layer_sizes': [8], 'learning_rate_init': 0.01971600638847825, 'momentum': 0.6934618456870022}\n",
            "0.3202020202020202\n"
          ]
        }
      ],
      "source": [
        "#Randomized search for hyperparameters\n",
        "#Here is one variation of code you could use for your randomized search.\n",
        "\n",
        "X, Y = getDataVowel()\n",
        "\n",
        "from sklearn.model_selection import RandomizedSearchCV\n",
        "from scipy.stats import uniform\n",
        "clf = MLPClassifier(activation='logistic', solver='sgd',alpha=0,early_stopping=True, n_iter_no_change=10, batch_size=1)\n",
        "distributions = dict(learning_rate_init=uniform(loc=0.01, scale=9), #loc is the min val, and loc + scale is the max val\n",
        "                    hidden_layer_sizes = ([8], [16], [32], [64], [128]), #since there is no distribution it samples these values uniformly\n",
        "                    momentum=uniform(loc=0,scale =.99))\n",
        "search = RandomizedSearchCV(clf, distributions, n_iter=10)\n",
        "search.fit(X,Y)\n",
        "print(search.best_params_)\n",
        "print(search.best_score_)"
      ]
    },
    {
      "cell_type": "markdown",
      "metadata": {
        "id": "BqSFAXwlk3Ms"
      },
      "source": [
        "***Discussion:***\n",
        "\n",
        "Grid Search gave me the following parameters and score:\n",
        "- Hidden Layer Size: 64\n",
        "- Learning Rate: 0.1\n",
        "- Momentum: 0.6\n",
        "- Accuracy: 44.3\n",
        "\n",
        "Random Search gave me the following parameters and score:\n",
        "- Hidden Layer Size: 8\n",
        "- Learning Rate: 0.019716\n",
        "- Momentum: 0.69346\n",
        "- Accuracy: 32.0\n",
        "\n",
        "Like you said, these accuracies are not any better than the ones I obtained with my own optimization, and are really quite a bit worse. The grid search took around an hour and a half to run. The random search took far less time, though it also got worse accuracy. The Learning rate and momentum chose by both algoritihms was very similar, though the number of nodes in the hidden layer was far different. This was intereting to me and makes me think that the grid search, while more computationally expensive, is better at getting the best combination of hyperparameters (of those that we give it at least)."
      ]
    },
    {
      "cell_type": "markdown",
      "metadata": {
        "id": "lIM0rEA9tlxu"
      },
      "source": [
        "## 3 Regression with MLPs\n",
        "\n",
        "### 3.1 (10%) - Learn a regression data set of your choice\n",
        "\n",
        "Train MLP on any real world data set that requires regression (i.e. has a real valued ouput) and discuss your effort and results.  While the [Irvine ML Repository](https://archive.ics.uci.edu) is a great resource, also onsider [Kaggle](https://www.kaggle.com) and [OpenML](https://openml.org) as other great places to find datasets.\n",
        "- Use [MLPRegressor](https://scikit-learn.org/stable/modules/generated/sklearn.neural_network.MLPRegressor.html#sklearn.neural_network.MLPRegressor) rather than MLPclassifier.  It has almost the exact same setup as MLPClassier except it uses the linear activation function for the output nodes and SSE as the loss function.  MLPClassier uses softmax activation for the output nodes and cross-entropy for the loss function.\n",
        "- Use any reasonable hyperparameters that you want.  \n",
        "- You will probably need to normalize input features.\n",
        "- It is not typically necessary to normalize the output.\n",
        "- Split into train and test and report the training and test set MAEs (Mean Absolute Error). For regression problems where we don't normalize the output, MAE is an intuitive measure as it shows exactly how much our output is off on average."
      ]
    },
    {
      "cell_type": "code",
      "execution_count": 4,
      "metadata": {
        "id": "OFQv70W2VyqJ",
        "colab": {
          "base_uri": "https://localhost:8080/"
        },
        "outputId": "9c0c6476-c99d-440c-ddc1-f313fd0182d3"
      },
      "outputs": [
        {
          "output_type": "stream",
          "name": "stdout",
          "text": [
            "2.3354419153044454\n",
            "3.3320503294257606\n"
          ]
        }
      ],
      "source": [
        "# Load and Learn a real world regression data set\n",
        "# To calculate MAE you could do a variation of the following\n",
        "\n",
        "def getDataLiver():\n",
        "  data_arff = arff.loadarff(\"liver.arff\")\n",
        "  data_pd = pd.DataFrame(data_arff[0])\n",
        "  data_np = data_pd.to_numpy().astype(\"double\")\n",
        "  X = data_np[:,:5]\n",
        "  Y = data_np[:,5]\n",
        "  X_mean = X.mean(axis=0)\n",
        "  X_std = X.std(axis=0)\n",
        "  X = (X - X_mean) / X_std\n",
        "\n",
        "  Xtrain, Xtest, ytrain, ytest = train_test_split(X, Y, test_size=0.25)\n",
        "\n",
        "  return Xtrain, Xtest, ytrain, ytest\n",
        "\n",
        "Xtrain, Xtest, ytrain, ytest = getDataLiver()\n",
        "\n",
        "clf = MLPRegressor(hidden_layer_sizes=[32], activation='logistic', solver='sgd',alpha=0,batch_size=1, learning_rate_init=0.1, shuffle=True, momentum=0.4, n_iter_no_change=50, max_iter=1000)\n",
        "clf.fit(Xtrain, ytrain)\n",
        "\n",
        "print(mean_absolute_error(clf.predict(Xtrain), ytrain))\n",
        "print(mean_absolute_error(clf.predict(Xtest), ytest))"
      ]
    },
    {
      "cell_type": "markdown",
      "metadata": {
        "id": "yWsej3Hc_zZe"
      },
      "source": [
        "***Discussion:***\n",
        "\n",
        "The MAE for the training set was: 1.98\n",
        "The MAE for the test set was: 2.63\n",
        "\n",
        "It makes sense that the error for the training set is less than that for the test set, as we fit the model to the training set. Even so, both errors are quite comparable. The max value for the any \"label\" in the output is 20, so having an error of roughly 2 (roughly 10% error) is not amazing, but it is not terrible."
      ]
    },
    {
      "cell_type": "markdown",
      "metadata": {
        "id": "TmShe87u_zZe"
      },
      "source": [
        "### 3.2 (10%) - Other MLP Hyperparameters\n",
        "With the same data set, you may (not required) experiment with some of the hyperparameters you already did above (LR, hidden nodes, momentum, validation set parameters, regularization).  But for sure experiment with and discuss the results of the first two hyperparameters below (activation functions and multiple hidden layers).  We encourage you to experiment briefly with the others but they are not required.\n",
        "\n",
        "- different hidden layer activation functions (tanh, relu in addition to logistic) - Note that Sklean does not currently let you choose the output layer activation function.  It is automatically softmax for classification and linear for regression.\n",
        "- more than one hidden layer\n",
        "- solver - try adam and lbfgs in addition to sgd\n",
        "- batch size\n",
        "- learning rate adaptation - this is the schedule parameter which lets LR adapt during learning"
      ]
    },
    {
      "cell_type": "code",
      "execution_count": 14,
      "metadata": {
        "id": "Hu1JE4vStlxv",
        "colab": {
          "base_uri": "https://localhost:8080/"
        },
        "outputId": "b0c48e41-c9d2-4abb-b463-05abd9b165df"
      },
      "outputs": [
        {
          "output_type": "stream",
          "name": "stdout",
          "text": [
            "Run  relu :\n",
            "1.873175695832642\n",
            "2.5084867373114696\n",
            "331\n",
            "Run  tanh :\n",
            "1.359038428764273\n",
            "3.092805964006735\n",
            "590\n",
            "Run  logistic :\n",
            "1.765825861384567\n",
            "2.6893053524362736\n",
            "1000\n"
          ]
        },
        {
          "output_type": "stream",
          "name": "stderr",
          "text": [
            "/usr/local/lib/python3.10/dist-packages/sklearn/neural_network/_multilayer_perceptron.py:690: ConvergenceWarning: Stochastic Optimizer: Maximum iterations (1000) reached and the optimization hasn't converged yet.\n",
            "  warnings.warn(\n"
          ]
        }
      ],
      "source": [
        "functions = [\"relu\", \"tanh\", \"logistic\"]\n",
        "\n",
        "for function in functions:\n",
        "  Xtrain, Xtest, ytrain, ytest = getDataLiver()\n",
        "  clf = MLPRegressor(hidden_layer_sizes=[16], activation=function, solver='sgd',alpha=0,batch_size=1, learning_rate_init=0.001, shuffle=True, momentum=0.4, n_iter_no_change=50, max_iter=1000)\n",
        "  clf.fit(Xtrain, ytrain)\n",
        "  print(\"Run \", function, \":\")\n",
        "  print(mean_absolute_error(clf.predict(Xtrain), ytrain))\n",
        "  print(mean_absolute_error(clf.predict(Xtest), ytest))\n",
        "  print(clf.n_iter_)"
      ]
    },
    {
      "cell_type": "markdown",
      "metadata": {
        "id": "HScVQasltlxv"
      },
      "source": [
        "***Discussion:***\n",
        "\n",
        "| Activation Function | Training MAE | Test MAE | Epochs |\n",
        "| :-----------------: | :----------: | :------: | :----: |\n",
        "|       relu          |     1.87     |   2.51   |   331  |\n",
        "|       tanh          |     1.35     |   3.09   |   590  |\n",
        "|     logistic        |     1.77     |   2.69   |  1000  |\n",
        "\n",
        "I had to change the parameteres from above because the `relu` and `tanh` activation functions were causing the model to explode the weights otherwise. So, I decreased the number of nodes in the hidden layer and also the learning rate.\n",
        "\n",
        "It appears that both `relu` and `tanh` worked faster than `logistic` to get to final result, as they took less epochs. I think this would be due to the complexity of the `logistic` function compared to the other two. The `tanh` activation function performed more poorly than the other two, though, in terms of its loss on both sets of data. Of them all, `relu` seems to be the best, as it provides the best MAE on the test set, and a MAE on the training set comparable to the `logistic` activation function. Interestingly, the `tanh` function seemed to overfit the data more than the others, as it had a better training MAE, but much worse test MAE. The `logistic` activation function stopped early, as it reached the max number of epochs before finishing. I wonder if it would have gotten the best results, had it been allowed to go to convergence."
      ]
    }
  ],
  "metadata": {
    "colab": {
      "provenance": [],
      "collapsed_sections": [
        "9vWiTdlbR2Xh",
        "AGuFUhMG_zZZ",
        "A-nUu5Txtlxt",
        "v72ryeHXtlxu",
        "lIM0rEA9tlxu"
      ]
    },
    "kernelspec": {
      "display_name": "Python 2.7.16 64-bit",
      "language": "python",
      "name": "python3"
    },
    "language_info": {
      "codemirror_mode": {
        "name": "ipython",
        "version": 3
      },
      "file_extension": ".py",
      "mimetype": "text/x-python",
      "name": "python",
      "nbconvert_exporter": "python",
      "pygments_lexer": "ipython3",
      "version": "2.7.16"
    },
    "vscode": {
      "interpreter": {
        "hash": "767d51c1340bd893661ea55ea3124f6de3c7a262a8b4abca0554b478b1e2ff90"
      }
    }
  },
  "nbformat": 4,
  "nbformat_minor": 0
}